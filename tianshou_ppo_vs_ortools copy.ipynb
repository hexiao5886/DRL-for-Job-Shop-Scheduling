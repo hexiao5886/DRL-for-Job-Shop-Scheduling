{
 "cells": [
  {
   "cell_type": "code",
   "execution_count": 1,
   "metadata": {},
   "outputs": [],
   "source": [
    "from tianshou_ppo import tianshou_ppo_train\n",
    "from ortools_scheduler import ORtools_scheduler\n",
    "from matplotlib import pyplot as plt\n",
    "import numpy as np\n",
    "import os\n",
    "import pandas as pd"
   ]
  },
  {
   "cell_type": "code",
   "execution_count": 2,
   "metadata": {},
   "outputs": [],
   "source": [
    "all_instances = [\"ft06\", \"la01\", \"la06\", \"la11\", \"la21\", \"la31\", \"la36\", \"orb01\", \"yn1\", \"swv01\", \"swv06\", \n",
    "                \"swv11\", \"swv12\", \"swv13\", \"swv14\", \"swv15\"]\n",
    "\n",
    "\n",
    "test_instances = [\"ft06\"]"
   ]
  },
  {
   "cell_type": "code",
   "execution_count": 3,
   "metadata": {},
   "outputs": [],
   "source": [
    "random_rate = 0.5\n",
    "cv = 0.2\n",
    "epochs = 10\n",
    "n = 10                  # 每张图几个点   \n",
    "\n",
    "instances = all_instances.copy()        "
   ]
  },
  {
   "cell_type": "code",
   "execution_count": 4,
   "metadata": {},
   "outputs": [],
   "source": [
    "%%capture hide_output\n",
    "directory = f\"figs_no_future_infomation/p{random_rate}cv{cv}epochs{epochs}_more_instances\"\n",
    "if not os.path.exists(directory):\n",
    "    os.makedirs(directory)\n",
    "\n",
    "ret = {}\n",
    "output = \"\"\n",
    "ortools_mean, ortools_std, policy_mean, policy_std = [], [], [], []\n",
    "ortools_on_original, policy_on_original = [], []\n",
    "optimal_mean, optimal_std = [], []\n",
    "ortools_300s_optimal_rate = []\n",
    "current_instances = []\n",
    "\n",
    "for instance in instances:\n",
    "    makespan, policy = tianshou_ppo_train(instance_name=instance, max_epoch=epochs)\n",
    "    ret[instance] = makespan\n",
    "\n",
    "    scheduler = ORtools_scheduler(instance)\n",
    "    scheduler.optimize()\n",
    "    obj_val = scheduler.obj_val\n",
    "\n",
    "    policy_vals, ortools_vals, optimal_vals, if_optimals = [], [], [], []\n",
    "    for _ in range(n):\n",
    "        times = scheduler.shifted_time_(random_rate=random_rate, cv=cv)\n",
    "        policy_val = scheduler.policy_makespan('ppo', policy, shifted_time=times)\n",
    "        ortools_val = scheduler.compute_makespan(shifted_time=times)        # 静态调度面对工时波动\n",
    "\n",
    "        if_optimal, optimal_val = scheduler.get_optimal_of_new_time_mat(times)\n",
    "\n",
    "        policy_vals.append(policy_val)\n",
    "        ortools_vals.append(ortools_val)\n",
    "        optimal_vals.append(optimal_val)\n",
    "        if_optimals.append(int(if_optimal))\n",
    "\n",
    "    plt.plot(policy_vals, color='g', label='policy')\n",
    "    plt.plot(ortools_vals, color='r', label='ortools')\n",
    "    plt.plot(optimal_vals, color='blue', label='ortools_300s')\n",
    "    policy_vals, ortools_vals, optimal_vals = np.array(policy_vals), np.array(ortools_vals), np.array(optimal_vals)\n",
    "\n",
    "    plt.hlines(np.mean(ortools_vals), -2, n+2, linestyles='dotted', colors='r')\n",
    "    plt.hlines(np.mean(policy_vals), -2, n+2, linestyles='dotted', colors='g')\n",
    "    plt.hlines(np.mean(optimal_vals), -2, n+2, linestyles='dotted', colors='blue')\n",
    "    scatter_x = np.where(if_optimals)\n",
    "    scatter_y = np.array(optimal_vals)[scatter_x]\n",
    "    plt.scatter(scatter_x, scatter_y, color='blue')\n",
    "\n",
    "\n",
    "    output += f\"Instance : {instance}\\n\"\n",
    "    output += f\"random rate={random_rate}, cv={cv}, epochs={epochs}\"\n",
    "    output += f\"ortools makespan on 原始算例 is {obj_val}, policy makespan on 原始算例 is {makespan}\\n\"\n",
    "    output += f\"mean of makespan when time mat varies, ortools:{np.mean(ortools_vals)}, policy:{np.mean(policy_vals)}\\n\"\n",
    "    output += f\"std of makespan when time mat varies, ortools:{np.std(ortools_vals)}, policy:{np.std(policy_vals)}\\n\"\n",
    "\n",
    "    ortools_mean.append(np.mean(ortools_vals))\n",
    "    ortools_std.append(np.std(ortools_vals))\n",
    "    policy_mean.append(np.mean(policy_vals))\n",
    "    policy_std.append(np.std(policy_vals))\n",
    "    optimal_mean.append(np.mean(optimal_vals))\n",
    "    optimal_std.append(np.std(optimal_vals))\n",
    "    ortools_on_original.append(obj_val)\n",
    "    policy_on_original.append(makespan)\n",
    "    ortools_300s_optimal_rate.append(np.mean(if_optimals))\n",
    "    current_instances.append(instance)\n",
    "\n",
    "    plt.xlabel('trial')\n",
    "    plt.ylabel('makespan')\n",
    "    plt.title(f\"random_rate={random_rate},cv={cv},instance={instance}\")\n",
    "    plt.legend()\n",
    "    plt.savefig(f\"{directory}/policy_vs_ortools_{instance}.png\")\n",
    "    plt.clf()\n",
    "\n",
    "    \n",
    "df = pd.DataFrame()\n",
    "# 将每个列添加到 DataFrame 中\n",
    "df['instance'] = current_instances\n",
    "df['ortools_mean'] = ortools_mean\n",
    "df['policy_mean'] = policy_mean\n",
    "df['optimal_mean'] = optimal_mean\n",
    "df['ortools_std'] = ortools_std\n",
    "df['policy_std'] = policy_std\n",
    "df['optimal_std'] = optimal_std\n",
    "df['ortools_on_original'] = ortools_on_original\n",
    "df['policy_on_original'] = policy_on_original\n",
    "df['ortools_300s_optimal_rate'] = ortools_300s_optimal_rate\n",
    "\n",
    "if os.path.exists(f\"{directory}/data.csv\"):\n",
    "    df2 = pd.read_csv(f\"{directory}/data.csv\")\n",
    "    df2 = df2.append(df, ignore_index=True)\n",
    "    df2.to_csv(f\"{directory}/data.csv\", index=False)\n",
    "else:\n",
    "    df.to_csv(f\"{directory}/data.csv\", index=False)"
   ]
  },
  {
   "cell_type": "code",
   "execution_count": 5,
   "metadata": {},
   "outputs": [
    {
     "name": "stdout",
     "output_type": "stream",
     "text": [
      "Instance : swv14\n",
      "random rate=0.5, cv=0.2, epochs=10ortools makespan on 原始算例 is 3115.0, policy makespan on 原始算例 is 3506\n",
      "mean of makespan when time mat varies, ortools:4136.6, policy:3575.0\n",
      "std of makespan when time mat varies, ortools:145.253709074846, policy:176.2367725532898\n",
      "Instance : swv15\n",
      "random rate=0.5, cv=0.2, epochs=10ortools makespan on 原始算例 is 3092.0, policy makespan on 原始算例 is 3501\n",
      "mean of makespan when time mat varies, ortools:4148.7, policy:3586.6\n",
      "std of makespan when time mat varies, ortools:186.50150133443967, policy:146.46719769286227\n",
      "\n"
     ]
    }
   ],
   "source": [
    "print(output)"
   ]
  },
  {
   "cell_type": "code",
   "execution_count": 6,
   "metadata": {},
   "outputs": [
    {
     "data": {
      "text/plain": [
       "{'swv14': 3506, 'swv15': 3501}"
      ]
     },
     "execution_count": 6,
     "metadata": {},
     "output_type": "execute_result"
    }
   ],
   "source": [
    "ret"
   ]
  }
 ],
 "metadata": {
  "kernelspec": {
   "display_name": "Python 3 (ipykernel)",
   "language": "python",
   "name": "python3"
  },
  "language_info": {
   "codemirror_mode": {
    "name": "ipython",
    "version": 3
   },
   "file_extension": ".py",
   "mimetype": "text/x-python",
   "name": "python",
   "nbconvert_exporter": "python",
   "pygments_lexer": "ipython3",
   "version": "3.8.10"
  },
  "vscode": {
   "interpreter": {
    "hash": "2f394aca7ca06fed1e6064aef884364492d7cdda3614a461e02e6407fc40ba69"
   }
  }
 },
 "nbformat": 4,
 "nbformat_minor": 4
}
