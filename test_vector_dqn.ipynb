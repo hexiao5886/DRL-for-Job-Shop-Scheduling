{
 "cells": [
  {
   "cell_type": "code",
   "execution_count": 2,
   "metadata": {},
   "outputs": [],
   "source": [
    "from gymjsp.jsspenv import HeuristicJsspEnv\n",
    "from tianshou.env import SubprocVectorEnv\n",
    "import numpy as np\n",
    "import random\n",
    "import torch\n",
    "import warnings\n",
    "warnings.filterwarnings('ignore')"
   ]
  },
  {
   "cell_type": "code",
   "execution_count": 4,
   "metadata": {},
   "outputs": [],
   "source": [
    "def helper_function():\n",
    "  env = HeuristicJsspEnv(\"ft06\")\n",
    "  return env\n",
    "\n",
    "env = HeuristicJsspEnv(\"ft06\")\n",
    "train_envs = SubprocVectorEnv([helper_function for _ in range(5)])"
   ]
  },
  {
   "cell_type": "code",
   "execution_count": 13,
   "metadata": {},
   "outputs": [
    {
     "data": {
      "text/plain": [
       "[3, 1, 0, 2, 2]"
      ]
     },
     "execution_count": 13,
     "metadata": {},
     "output_type": "execute_result"
    }
   ],
   "source": [
    "[action_space.sample() for action_space in train_envs.action_space]"
   ]
  },
  {
   "cell_type": "code",
   "execution_count": 17,
   "metadata": {},
   "outputs": [
    {
     "data": {
      "text/plain": [
       "(array([[ 0. ,  0. ,  1. , ...,  0. ,  0. ,  0.5],\n",
       "        [ 0. ,  0. , -1. , ...,  0. ,  0. ,  0.5],\n",
       "        [ 0. ,  0. , -1. , ...,  0. ,  0. ,  0.5],\n",
       "        [ 0. ,  0. ,  1. , ...,  0. ,  0. ,  0.5],\n",
       "        [ 0. ,  0. , -1. , ...,  0. ,  0. ,  0.5]], dtype=float32),\n",
       " array([-0.66666667, -0.5       , -0.66666667, -0.41666667, -0.66666667]),\n",
       " array([False, False, False, False, False]),\n",
       " array([{'cost': 0, 'wait': 0, 'total action': 4, 'makespan': 4, 'env_id': 0},\n",
       "        {'cost': 0, 'wait': 0, 'total action': 4, 'makespan': 4, 'env_id': 1},\n",
       "        {'cost': 0, 'wait': 0, 'total action': 4, 'makespan': 4, 'env_id': 2},\n",
       "        {'cost': 0, 'wait': 0, 'total action': 4, 'makespan': 4, 'env_id': 3},\n",
       "        {'cost': 0, 'wait': 0, 'total action': 4, 'makespan': 4, 'env_id': 4}],\n",
       "       dtype=object))"
      ]
     },
     "execution_count": 17,
     "metadata": {},
     "output_type": "execute_result"
    }
   ],
   "source": [
    "train_envs.step([0,1,2,3,2])"
   ]
  },
  {
   "cell_type": "code",
   "execution_count": null,
   "metadata": {},
   "outputs": [],
   "source": []
  }
 ],
 "metadata": {
  "kernelspec": {
   "display_name": "base",
   "language": "python",
   "name": "python3"
  },
  "language_info": {
   "codemirror_mode": {
    "name": "ipython",
    "version": 3
   },
   "file_extension": ".py",
   "mimetype": "text/x-python",
   "name": "python",
   "nbconvert_exporter": "python",
   "pygments_lexer": "ipython3",
   "version": "3.8.10"
  },
  "orig_nbformat": 4,
  "vscode": {
   "interpreter": {
    "hash": "2f394aca7ca06fed1e6064aef884364492d7cdda3614a461e02e6407fc40ba69"
   }
  }
 },
 "nbformat": 4,
 "nbformat_minor": 2
}
