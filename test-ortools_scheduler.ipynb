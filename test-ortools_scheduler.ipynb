{
 "cells": [
  {
   "cell_type": "code",
   "execution_count": 1,
   "metadata": {},
   "outputs": [],
   "source": [
    "import os\n",
    "import numpy as np\n",
    "import pandas as pd\n",
    "import collections\n",
    "import torch\n",
    "import networkx as nx\n",
    "from ortools.sat.python import cp_model\n",
    "from matplotlib import pyplot as plt\n",
    "\n",
    "import warnings\n",
    "warnings.filterwarnings(\"ignore\")\n",
    "from ortools_scheduler import ORtools_scheduler"
   ]
  },
  {
   "attachments": {},
   "cell_type": "markdown",
   "metadata": {},
   "source": [
    "#### ortools 实验结果\n",
    "max_time = 300s"
   ]
  },
  {
   "cell_type": "code",
   "execution_count": 2,
   "metadata": {},
   "outputs": [],
   "source": [
    "instances = [\"ft06\", \"la01\", \"la06\", \"la11\", \"la21\", \"la31\", \"la36\", \"orb01\", \"swv01\", \"swv06\", \"swv11\", \"yn1\"]"
   ]
  },
  {
   "cell_type": "code",
   "execution_count": 3,
   "metadata": {},
   "outputs": [
    {
     "name": "stdout",
     "output_type": "stream",
     "text": [
      "For instance ft06, obj_val in 300s is 55.0\n",
      "For instance la01, obj_val in 300s is 666.0\n",
      "For instance la06, obj_val in 300s is 926.0\n",
      "For instance la11, obj_val in 300s is 1222.0\n",
      "For instance la21, obj_val in 300s is 1046.0\n",
      "For instance la31, obj_val in 300s is 1784.0\n",
      "For instance la36, obj_val in 300s is 1268.0\n",
      "For instance orb01, obj_val in 300s is 1059.0\n",
      "For instance swv01, obj_val in 300s is 1413.0\n",
      "For instance swv06, obj_val in 300s is 1760.0\n",
      "For instance swv11, obj_val in 300s is 3255.0\n",
      "For instance yn1, obj_val in 300s is 898.0\n"
     ]
    }
   ],
   "source": [
    "# 用ortools优化，保存调度结果\n",
    "for instance in instances:\n",
    "    scheduler = ORtools_scheduler(instance_name=instance, max_time=300)\n",
    "    scheduler.optimize()\n",
    "    assert scheduler.obj_val == scheduler.compute_makespan()\n",
    "    print(f\"For instance {instance}, obj_val in 300s is {scheduler.obj_val}\")\n",
    "    scheduler.store_solution()"
   ]
  },
  {
   "cell_type": "code",
   "execution_count": 4,
   "metadata": {},
   "outputs": [
    {
     "name": "stdout",
     "output_type": "stream",
     "text": [
      "For instance ft06, makespan computed is 55\n",
      "For instance la01, makespan computed is 666\n",
      "For instance la06, makespan computed is 926\n",
      "For instance la11, makespan computed is 1222\n",
      "For instance la21, makespan computed is 1046\n",
      "For instance la31, makespan computed is 1784\n",
      "For instance la36, makespan computed is 1268\n",
      "For instance orb01, makespan computed is 1059\n",
      "For instance swv01, makespan computed is 1413\n",
      "For instance swv06, makespan computed is 1760\n",
      "For instance swv11, makespan computed is 3255\n",
      "For instance yn1, makespan computed is 898\n"
     ]
    }
   ],
   "source": [
    "# 读取调度结果，计算最大加工时间\n",
    "for instance in instances:\n",
    "    scheduler = ORtools_scheduler(instance_name=instance, max_time=300)\n",
    "    scheduler.read_solution()\n",
    "    makespan = scheduler.compute_makespan()\n",
    "    print(f\"For instance {instance}, makespan computed is {makespan}\")"
   ]
  }
 ],
 "metadata": {
  "kernelspec": {
   "display_name": "base",
   "language": "python",
   "name": "python3"
  },
  "language_info": {
   "codemirror_mode": {
    "name": "ipython",
    "version": 3
   },
   "file_extension": ".py",
   "mimetype": "text/x-python",
   "name": "python",
   "nbconvert_exporter": "python",
   "pygments_lexer": "ipython3",
   "version": "3.8.10 (default, Jun  4 2021, 15:09:15) \n[GCC 7.5.0]"
  },
  "orig_nbformat": 4,
  "vscode": {
   "interpreter": {
    "hash": "2f394aca7ca06fed1e6064aef884364492d7cdda3614a461e02e6407fc40ba69"
   }
  }
 },
 "nbformat": 4,
 "nbformat_minor": 2
}
