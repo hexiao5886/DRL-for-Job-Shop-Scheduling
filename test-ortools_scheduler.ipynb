{
 "cells": [
  {
   "cell_type": "code",
   "execution_count": 1,
   "metadata": {},
   "outputs": [],
   "source": [
    "import os\n",
    "import numpy as np\n",
    "import pandas as pd\n",
    "import collections\n",
    "import torch\n",
    "import networkx as nx\n",
    "from ortools.sat.python import cp_model\n",
    "from matplotlib import pyplot as plt\n",
    "\n",
    "import warnings\n",
    "warnings.filterwarnings(\"ignore\")\n",
    "from ortools_scheduler import ORtools_scheduler"
   ]
  },
  {
   "attachments": {},
   "cell_type": "markdown",
   "metadata": {},
   "source": [
    "#### ortools 实验结果\n",
    "max_time = 300s"
   ]
  },
  {
   "cell_type": "code",
   "execution_count": 2,
   "metadata": {},
   "outputs": [],
   "source": [
    "instances = [\"ft06\", \"la01\", \"la06\", \"la11\", \"la21\", \"la31\", \"la36\", \"orb01\", \"swv01\", \"swv06\", \"swv11\", \"yn1\", \n",
    "            \"swv12\", \"swv13\", \"swv14\", \"swv15\"]"
   ]
  },
  {
   "cell_type": "code",
   "execution_count": 7,
   "metadata": {},
   "outputs": [
    {
     "name": "stdout",
     "output_type": "stream",
     "text": [
      "For instance ft06, obj_val in 300s is 55.0\n",
      "For instance la01, obj_val in 300s is 666.0\n",
      "For instance la06, obj_val in 300s is 926.0\n",
      "For instance la11, obj_val in 300s is 1222.0\n",
      "For instance la21, obj_val in 300s is 1046.0\n",
      "For instance la31, obj_val in 300s is 1784.0\n",
      "For instance la36, obj_val in 300s is 1268.0\n",
      "For instance orb01, obj_val in 300s is 1059.0\n",
      "For instance swv01, obj_val in 300s is 1429.0\n",
      "For instance swv06, obj_val in 300s is 1712.0\n",
      "For instance swv11, obj_val in 300s is 3207.0\n",
      "For instance yn1, obj_val in 300s is 898.0\n",
      "For instance swv12, obj_val in 300s is 3237.0\n",
      "For instance swv13, obj_val in 300s is 3277.0\n",
      "For instance swv14, obj_val in 300s is 3142.0\n",
      "For instance swv15, obj_val in 300s is 3047.0\n"
     ]
    }
   ],
   "source": [
    "# 用ortools优化，保存调度结果\n",
    "origin_optimal_list = []\n",
    "for instance in instances:\n",
    "    scheduler = ORtools_scheduler(instance_name=instance, max_time=300)\n",
    "    scheduler.optimize()\n",
    "    assert scheduler.obj_val == scheduler.compute_makespan()\n",
    "    print(f\"For instance {instance}, obj_val in 300s is {scheduler.obj_val}\")\n",
    "    scheduler.store_solution()\n",
    "    if scheduler.status == cp_model.OPTIMAL:\n",
    "        origin_optimal_list.append(instance)\n",
    "df = pd.DataFrame({'instances':origin_optimal_list})\n",
    "df.to_csv(\"sols/origin_optimal.csv\")"
   ]
  },
  {
   "cell_type": "code",
   "execution_count": 8,
   "metadata": {},
   "outputs": [
    {
     "name": "stdout",
     "output_type": "stream",
     "text": [
      "For instance ft06, makespan computed is 55\n",
      "For instance la01, makespan computed is 666\n",
      "For instance la06, makespan computed is 926\n",
      "For instance la11, makespan computed is 1222\n",
      "For instance la21, makespan computed is 1046\n",
      "For instance la31, makespan computed is 1784\n",
      "For instance la36, makespan computed is 1268\n",
      "For instance orb01, makespan computed is 1059\n",
      "For instance swv01, makespan computed is 1429\n",
      "For instance swv06, makespan computed is 1712\n",
      "For instance swv11, makespan computed is 3207\n",
      "For instance yn1, makespan computed is 898\n",
      "For instance swv12, makespan computed is 3237\n",
      "For instance swv13, makespan computed is 3277\n",
      "For instance swv14, makespan computed is 3142\n",
      "For instance swv15, makespan computed is 3047\n"
     ]
    }
   ],
   "source": [
    "# 读取调度结果，计算最大加工时间\n",
    "for instance in instances:\n",
    "    scheduler = ORtools_scheduler(instance_name=instance, max_time=300)\n",
    "    scheduler.read_solution()\n",
    "    makespan = scheduler.compute_makespan()\n",
    "    print(f\"For instance {instance}, makespan computed is {makespan}\")"
   ]
  },
  {
   "attachments": {},
   "cell_type": "markdown",
   "metadata": {},
   "source": [
    "#### 工时波动，ortools重新求解"
   ]
  },
  {
   "cell_type": "code",
   "execution_count": null,
   "metadata": {},
   "outputs": [],
   "source": [
    "instances = [\"ft06\", \"la01\", \"la06\", \"la11\", \"la21\", \"la31\", \"la36\", \"orb01\", \"yn1\", \"swv01\", \"swv06\", \"swv11\", \n",
    "            \"swv12\", \"swv13\", \"swv14\", \"swv15\"]"
   ]
  },
  {
   "cell_type": "code",
   "execution_count": 2,
   "metadata": {},
   "outputs": [],
   "source": [
    "test_instances = [\"swv12\", \"swv13\"]     # 12需要重新跑\n",
    "random_rate = 0.5\n",
    "cv = 0.2\n",
    "n = 10\n",
    "\n",
    "for instance in test_instances:\n",
    "    directory = f\"sols/{instance}/p{random_rate}cv{cv}\"         # 某个样例，给定随机参数\n",
    "    if not os.path.exists(directory):\n",
    "        os.makedirs(directory)\n",
    "    \n",
    "    if_optimal = []\n",
    "    obj_vals = []\n",
    "    for i in range(n):                                          # 随机生成 n 个波动工时矩阵\n",
    "        scheduler = ORtools_scheduler(instance_name=instance, max_time=300)\n",
    "        times = scheduler.shifted_time_(random_rate=random_rate, cv=cv)\n",
    "        scheduler.shift_time(times)\n",
    "        scheduler.optimize()\n",
    "        obj_val = scheduler.obj_val\n",
    "        obj_vals.append(obj_val)\n",
    "\n",
    "        scheduler.store_time_mat(os.path.join(directory, f\"{i}.npy\"))\n",
    "        #scheduler.store_solution(os.path.join(directory, f\"{i}.csv\"))        不需要波动后的解，只需要波动后的时间矩阵，原始的ortools解是需要的\n",
    "        if scheduler.status == cp_model.OPTIMAL:\n",
    "            if_optimal.append(1)\n",
    "        else:\n",
    "            if_optimal.append(0)\n",
    "    df = pd.DataFrame({'optimal':if_optimal, \"obj_val\":obj_vals})\n",
    "    df.to_csv(os.path.join(directory, \"info.csv\"))"
   ]
  }
 ],
 "metadata": {
  "kernelspec": {
   "display_name": "base",
   "language": "python",
   "name": "python3"
  },
  "language_info": {
   "codemirror_mode": {
    "name": "ipython",
    "version": 3
   },
   "file_extension": ".py",
   "mimetype": "text/x-python",
   "name": "python",
   "nbconvert_exporter": "python",
   "pygments_lexer": "ipython3",
   "version": "3.8.10"
  },
  "orig_nbformat": 4,
  "vscode": {
   "interpreter": {
    "hash": "2f394aca7ca06fed1e6064aef884364492d7cdda3614a461e02e6407fc40ba69"
   }
  }
 },
 "nbformat": 4,
 "nbformat_minor": 2
}
