{
  "cells": [
    {
      "cell_type": "markdown",
      "metadata": {
        "id": "_UaXOSRjDUF9"
      },
      "source": [
        "# Overview\n",
        "Finally, we can assemble building blocks that we have came across in previous tutorials to conduct our first DRL experiment. In this experiment, we will use [PPO](https://arxiv.org/abs/1707.06347) algorithm to solve the classic CartPole task in Gym."
      ]
    },
    {
      "cell_type": "markdown",
      "metadata": {
        "id": "2QRbCJvDHNAd"
      },
      "source": [
        "# Experiment\n",
        "To conduct this experiment, we need the following building blocks.\n",
        "\n",
        "\n",
        "*   Two vectorized environments, one for training and one for evaluation\n",
        "*   A PPO agent\n",
        "*   A replay buffer to store transition data\n",
        "*   Two collectors to manage the data collecting process, one for training and one for evaluation\n",
        "*   A trainer to manage the training loop\n",
        "\n",
        "<div align=center>\n",
        "<img src=\"https://tianshou.readthedocs.io/en/master/_images/pipeline.png\", width=500>\n",
        "\n",
        "</div>\n",
        "\n",
        "Let us do this step by step."
      ]
    },
    {
      "cell_type": "markdown",
      "metadata": {
        "id": "-Hh4E6i0Hj0I"
      },
      "source": [
        "## Preparation\n",
        "Firstly, install Tianshou if you haven't installed it before."
      ]
    },
    {
      "cell_type": "markdown",
      "metadata": {
        "id": "7E4EhiBeHxD5"
      },
      "source": [
        "Import libraries we might need later."
      ]
    },
    {
      "cell_type": "code",
      "execution_count": 1,
      "metadata": {
        "id": "ao9gWJDiHgG-"
      },
      "outputs": [],
      "source": [
        "import gym\n",
        "import numpy as np\n",
        "import torch\n",
        "\n",
        "from tianshou.data import Collector, VectorReplayBuffer\n",
        "from tianshou.env import DummyVectorEnv\n",
        "from tianshou.policy import PPOPolicy\n",
        "from tianshou.trainer import onpolicy_trainer\n",
        "from tianshou.utils.net.common import ActorCritic, Net\n",
        "from tianshou.utils.net.discrete import Actor, Critic\n",
        "\n",
        "import warnings\n",
        "warnings.filterwarnings('ignore')\n",
        "\n",
        "device = 'cuda' if torch.cuda.is_available() else 'cpu'"
      ]
    },
    {
      "cell_type": "markdown",
      "metadata": {
        "id": "QnRg5y7THRYw"
      },
      "source": [
        "## Environment"
      ]
    },
    {
      "cell_type": "markdown",
      "metadata": {
        "id": "YZERKCGtH8W1"
      },
      "source": [
        "We create two vectorized environments both for training and testing. Since the execution time of CartPole is extremely short, there is no need to use multi-process wrappers and we simply use DummyVectorEnv."
      ]
    },
    {
      "cell_type": "code",
      "execution_count": 2,
      "metadata": {},
      "outputs": [],
      "source": [
        "instance_name = \"ft06\""
      ]
    },
    {
      "cell_type": "code",
      "execution_count": 3,
      "metadata": {},
      "outputs": [],
      "source": [
        "from gymjsp.jsspenv import HeuristicJsspEnv\n",
        "from tianshou.env import SubprocVectorEnv\n",
        "\n",
        "def helper_function():\n",
        "  env = HeuristicJsspEnv(instance_name)\n",
        "  # other operations such as env.seed(np.random.choice(10))\n",
        "  return env\n",
        "\n",
        "env = HeuristicJsspEnv(instance_name)\n",
        "train_envs = SubprocVectorEnv([helper_function for _ in range(20)])\n",
        "test_envs = SubprocVectorEnv([helper_function for _ in range(10)])"
      ]
    },
    {
      "cell_type": "markdown",
      "metadata": {
        "id": "BJtt_Ya8DTAh"
      },
      "source": [
        "## Policy\n",
        "Next we need to initialise our PPO policy. PPO is an actor-critic-style on-policy algorithm, so we have to define the actor and the critic in PPO first.\n",
        "\n",
        "The actor is a neural network that shares the same network head with the critic. Both networks' input is the environment observation. The output of the actor is the action and the output of the critic is a single value, representing the value of the current policy.\n",
        "\n",
        "Luckily, Tianshou already provides basic network modules that we can use in this experiment."
      ]
    },
    {
      "cell_type": "code",
      "execution_count": 4,
      "metadata": {
        "id": "_Vy8uPWXP4m_"
      },
      "outputs": [],
      "source": [
        "# net is the shared head of the actor and the critic\n",
        "net = Net(env.observation_space.shape, hidden_sizes=[64, 64], device=device)\n",
        "actor = Actor(net, env.action_space.n, device=device).to(device)\n",
        "critic = Critic(net, device=device).to(device)\n",
        "actor_critic = ActorCritic(actor, critic)\n",
        "\n",
        "# optimizer of the actor and the critic\n",
        "optim = torch.optim.Adam(actor_critic.parameters(), lr=0.0003)"
      ]
    },
    {
      "cell_type": "markdown",
      "metadata": {
        "id": "Lh2-hwE5Dn9I"
      },
      "source": [
        "Once we have defined the actor, the critic and the optimizer. We can use them to construct our PPO agent. CartPole is a discrete action space problem, so the distribution of our action space can be a categorical distribution."
      ]
    },
    {
      "cell_type": "code",
      "execution_count": 5,
      "metadata": {
        "id": "OiJ2GkT0Qnbr"
      },
      "outputs": [],
      "source": [
        "dist = torch.distributions.Categorical\n",
        "policy = PPOPolicy(actor, critic, optim, dist, action_space=env.action_space, deterministic_eval=True)"
      ]
    },
    {
      "cell_type": "markdown",
      "metadata": {
        "id": "okxfj6IEQ-r8"
      },
      "source": [
        "`deterministic_eval=True` means that we want to sample actions during training but we would like to always use the best action in evaluation. No randomness included."
      ]
    },
    {
      "cell_type": "markdown",
      "metadata": {
        "id": "n5XAAbuBZarO"
      },
      "source": [
        "## Collector\n",
        "We can set up the collectors now. Train collector is used to collect and store training data, so an additional replay buffer has to be passed in."
      ]
    },
    {
      "cell_type": "code",
      "execution_count": 6,
      "metadata": {
        "id": "ezwz0qerZhQM"
      },
      "outputs": [],
      "source": [
        "train_collector = Collector(policy, train_envs, VectorReplayBuffer(20000, len(train_envs)))\n",
        "test_collector = Collector(policy, test_envs)"
      ]
    },
    {
      "cell_type": "markdown",
      "metadata": {
        "id": "ZaoPxOd2hm0b"
      },
      "source": [
        "We use `VectorReplayBuffer` here because it's more efficient to collaborate with vectorized environments, you can simply consider `VectorReplayBuffer` as a a list of ordinary replay buffers."
      ]
    },
    {
      "cell_type": "markdown",
      "metadata": {
        "id": "qBoE9pLUiC-8"
      },
      "source": [
        "## Trainer\n",
        "Finally, we can use the trainer to help us set up the training loop."
      ]
    },
    {
      "cell_type": "code",
      "execution_count": 7,
      "metadata": {
        "colab": {
          "base_uri": "https://localhost:8080/"
        },
        "id": "i45EDnpxQ8gu",
        "outputId": "b1666b88-0bfa-4340-868e-58611872d988"
      },
      "outputs": [
        {
          "name": "stderr",
          "output_type": "stream",
          "text": [
            "Epoch #1: 50001it [00:51, 976.14it/s, env_step=50000, len=8, loss=-0.009, loss/clip=-0.004, loss/ent=0.538, loss/vf=0.001, n/ep=250, n/st=2000, rew=-2.23]                            "
          ]
        },
        {
          "name": "stdout",
          "output_type": "stream",
          "text": [
            "Epoch #1: test_reward: -2.221678 ± 0.000000, best_reward: -2.221678 ± 0.000000 in #1\n"
          ]
        },
        {
          "name": "stderr",
          "output_type": "stream",
          "text": [
            "\n"
          ]
        }
      ],
      "source": [
        "result = onpolicy_trainer(\n",
        "    policy,\n",
        "    train_collector,\n",
        "    test_collector,\n",
        "    max_epoch=1,\n",
        "    step_per_epoch=50000,\n",
        "    repeat_per_collect=10,\n",
        "    episode_per_test=10,\n",
        "    batch_size=256,\n",
        "    step_per_collect=2000,\n",
        "    stop_fn=lambda mean_reward: mean_reward >= 195,\n",
        ")"
      ]
    },
    {
      "cell_type": "markdown",
      "metadata": {
        "id": "ckgINHE2iTFR"
      },
      "source": [
        "## Results\n",
        "Print the training result."
      ]
    },
    {
      "cell_type": "code",
      "execution_count": 8,
      "metadata": {
        "colab": {
          "base_uri": "https://localhost:8080/"
        },
        "id": "tJCPgmiyiaaX",
        "outputId": "40123ae3-3365-4782-9563-46c43812f10f"
      },
      "outputs": [
        {
          "name": "stdout",
          "output_type": "stream",
          "text": [
            "{'duration': '51.43s', 'train_time/model': '13.04s', 'test_step': 190, 'test_episode': 20, 'test_time': '0.17s', 'test_speed': '1131.02 step/s', 'best_reward': -2.221678321678321, 'best_result': '-2.22 ± 0.00', 'train_step': 50000, 'train_episode': 6086, 'train_time/collector': '38.22s', 'train_speed': '975.46 step/s'}\n"
          ]
        }
      ],
      "source": [
        "print(result)"
      ]
    },
    {
      "cell_type": "markdown",
      "metadata": {
        "id": "A-MJ9avMibxN"
      },
      "source": [
        "We can also test our trained agent."
      ]
    },
    {
      "cell_type": "code",
      "execution_count": 9,
      "metadata": {
        "colab": {
          "base_uri": "https://localhost:8080/"
        },
        "id": "mnMANFcciiAQ",
        "outputId": "6febcc1e-7265-4a75-c9dd-34e29a3e5d21"
      },
      "outputs": [
        {
          "name": "stdout",
          "output_type": "stream",
          "text": [
            "Final reward: -2.221678321678321, length: 8.0\n"
          ]
        }
      ],
      "source": [
        "# Let's watch its performance!\n",
        "policy.eval()\n",
        "result = test_collector.collect(n_episode=1, render=False)\n",
        "print(\"Final reward: {}, length: {}\".format(result[\"rews\"].mean(), result[\"lens\"].mean()))"
      ]
    },
    {
      "cell_type": "code",
      "execution_count": 10,
      "metadata": {},
      "outputs": [],
      "source": [
        "from tianshou.data import Batch\n",
        "\n",
        "obs = env.reset()\n",
        "done = False\n",
        "score = 0\n",
        "\n",
        "while not done:\n",
        "    action = policy(Batch(obs=obs[np.newaxis, :])).act.item()\n",
        "    next_state, reward, done, info = env.step(action)\n",
        "    obs = next_state\n",
        "    score += reward"
      ]
    },
    {
      "cell_type": "code",
      "execution_count": 11,
      "metadata": {},
      "outputs": [
        {
          "data": {
            "text/plain": [
              "{'cost': 0, 'wait': 0, 'total action': 8, 'makespan': 59}"
            ]
          },
          "execution_count": 11,
          "metadata": {},
          "output_type": "execute_result"
        }
      ],
      "source": [
        "info"
      ]
    },
    {
      "attachments": {},
      "cell_type": "markdown",
      "metadata": {},
      "source": [
        "#### 工时波动，对比静态调度和policy"
      ]
    },
    {
      "cell_type": "code",
      "execution_count": 28,
      "metadata": {},
      "outputs": [],
      "source": [
        "from ortools_scheduler import ORtools_scheduler\n",
        "scheduler = ORtools_scheduler(instance_name)\n",
        "scheduler.optimize()\n",
        "\n",
        "n = 100\n",
        "policy_vals, ortools_vals = [], []\n",
        "for _ in range(n):\n",
        "    times = scheduler.shifted_time_(random_rate=0.5)\n",
        "    policy_val = scheduler.policy_makespan('ppo', policy, shifted_time=times)\n",
        "    ortools_val = scheduler.compute_makespan(shifted_time=times)        # 静态调度面对工时波动\n",
        "    policy_vals.append(policy_val)\n",
        "    ortools_vals.append(ortools_val)"
      ]
    },
    {
      "cell_type": "code",
      "execution_count": 29,
      "metadata": {},
      "outputs": [
        {
          "data": {
            "text/plain": [
              "<matplotlib.legend.Legend at 0x7f97f4ec1d30>"
            ]
          },
          "execution_count": 29,
          "metadata": {},
          "output_type": "execute_result"
        },
        {
          "data": {
            "image/png": "[encoded data removed]",
            "text/plain": [
              "<Figure size 432x288 with 1 Axes>"
            ]
          },
          "metadata": {
            "needs_background": "light"
          },
          "output_type": "display_data"
        }
      ],
      "source": [
        "from matplotlib import pyplot as plt\n",
        "plt.plot(policy_vals, color='g', label='policy')\n",
        "plt.plot(ortools_vals, color='r', label='ortools')\n",
        "plt.hlines(scheduler.obj_val, -2, n+2, linestyles='dotted', colors='r')\n",
        "plt.hlines(info[\"makespan\"], -2, n+2, linestyles='dotted', colors='g')\n",
        "plt.xlabel('trial')\n",
        "plt.ylabel('makespan')\n",
        "plt.legend()"
      ]
    },
    {
      "attachments": {},
      "cell_type": "markdown",
      "metadata": {},
      "source": [
        "#### 工时波动"
      ]
    },
    {
      "cell_type": "code",
      "execution_count": 31,
      "metadata": {},
      "outputs": [
        {
          "name": "stdout",
          "output_type": "stream",
          "text": [
            "面对工时波动, policy:64, ortools-static:63, optimal_val:58.0\n"
          ]
        }
      ],
      "source": [
        "from ortools_scheduler import ORtools_scheduler\n",
        "scheduler = ORtools_scheduler(\"ft06\")\n",
        "scheduler.optimize()\n",
        "\n",
        "times = scheduler.shifted_time_(random_rate=0.5)\n",
        "policy_val = scheduler.policy_makespan('ppo', policy, shifted_time=times)\n",
        "ortools_val = scheduler.compute_makespan(shifted_time=times)        # 静态调度面对工时波动\n",
        "scheduler.shift_time(times)\n",
        "scheduler.optimize()\n",
        "\n",
        "optimal_val = scheduler.obj_val\n",
        "assert optimal_val == scheduler.compute_makespan()\n",
        "print(f\"面对工时波动, policy:{policy_val}, ortools-static:{ortools_val}, optimal_val:{optimal_val}\")"
      ]
    },
    {
      "cell_type": "code",
      "execution_count": null,
      "metadata": {},
      "outputs": [],
      "source": []
    },
    {
      "cell_type": "code",
      "execution_count": 14,
      "metadata": {},
      "outputs": [
        {
          "name": "stderr",
          "output_type": "stream",
          "text": [
            "Model trivially infeasible, variable 4 has lower bound 14 and LowerOrEqual() was called with an upper bound of 3\n",
            "Model trivially infeasible, variable 0 has lower bound 13 and LowerOrEqual() was called with an upper bound of -1\n",
            "Model trivially infeasible, variable 0 has lower bound 12 and LowerOrEqual() was called with an upper bound of -1\n"
          ]
        }
      ],
      "source": [
        "for _ in range(100):\n",
        "    scheduler = ORtools_scheduler(\"ft06\")\n",
        "    scheduler.optimize()\n",
        "    times = scheduler.shifted_time_(random_rate=0.5)\n",
        "    policy_val = scheduler.policy_makespan('ppo', policy, shifted_time=times)\n",
        "    ortools_val = scheduler.compute_makespan(shifted_time=times)        # 静态调度面对工时波动\n",
        "    scheduler.shift_time(times)\n",
        "    scheduler.optimize()\n",
        "    optimal_val = scheduler.obj_val\n",
        "    new = scheduler.compute_makespan()\n",
        "    if optimal_val != new:\n",
        "        print(optimal_val, new)\n",
        "        print(times)\n",
        "    if optimal_val > ortools_val:\n",
        "        print(optimal_val, ortools_val)\n",
        "        print(times)"
      ]
    },
    {
      "attachments": {},
      "cell_type": "markdown",
      "metadata": {},
      "source": [
        "怎么会 optimal_val 比 static 大？？"
      ]
    }
  ],
  "metadata": {
    "colab": {
      "provenance": [],
      "toc_visible": true
    },
    "kernelspec": {
      "display_name": "base",
      "language": "python",
      "name": "python3"
    },
    "language_info": {
      "codemirror_mode": {
        "name": "ipython",
        "version": 3
      },
      "file_extension": ".py",
      "mimetype": "text/x-python",
      "name": "python",
      "nbconvert_exporter": "python",
      "pygments_lexer": "ipython3",
      "version": "3.8.10 (default, Jun  4 2021, 15:09:15) \n[GCC 7.5.0]"
    },
    "vscode": {
      "interpreter": {
        "hash": "2f394aca7ca06fed1e6064aef884364492d7cdda3614a461e02e6407fc40ba69"
      }
    }
  },
  "nbformat": 4,
  "nbformat_minor": 0
}
