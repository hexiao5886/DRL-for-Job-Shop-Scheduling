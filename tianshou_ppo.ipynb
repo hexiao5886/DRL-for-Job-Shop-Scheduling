{
 "cells": [
  {
   "cell_type": "code",
   "execution_count": 2,
   "metadata": {},
   "outputs": [],
   "source": [
    "from tianshou_ppo import tianshou_ppo_train\n",
    "import torch\n",
    "import os"
   ]
  },
  {
   "cell_type": "code",
   "execution_count": 2,
   "metadata": {},
   "outputs": [],
   "source": [
    "instances = [\"ft06\", \"la01\", \"la06\", \"la11\", \"la21\", \"la31\", \"la36\", \"orb01\", \"swv01\", \"swv06\", \"swv11\", \"yn1\", \n",
    "            \"swv12\", \"swv13\", \"swv14\", \"swv15\"]"
   ]
  },
  {
   "cell_type": "code",
   "execution_count": 9,
   "metadata": {},
   "outputs": [
    {
     "name": "stderr",
     "output_type": "stream",
     "text": [
      "Epoch #1: 50001it [00:42, 1179.56it/s, env_step=50000, len=126, loss=0.736, loss/clip=-0.002, loss/ent=1.883, loss/vf=1.512, n/ep=15, n/st=2000, rew=-17.83]                           \n"
     ]
    },
    {
     "name": "stdout",
     "output_type": "stream",
     "text": [
      "Epoch #1: test_reward: -18.128485 ± 0.000000, best_reward: -16.927222 ± 0.000000 in #0\n"
     ]
    },
    {
     "name": "stderr",
     "output_type": "stream",
     "text": [
      "Epoch #2: 50001it [00:42, 1190.35it/s, env_step=100000, len=129, loss=0.426, loss/clip=-0.004, loss/ent=1.582, loss/vf=0.891, n/ep=11, n/st=2000, rew=-20.79]                           \n"
     ]
    },
    {
     "name": "stdout",
     "output_type": "stream",
     "text": [
      "Epoch #2: test_reward: -25.378030 ± 0.000000, best_reward: -16.927222 ± 0.000000 in #0\n",
      "============ makespan of la06 is 1075 ===============\n"
     ]
    }
   ],
   "source": [
    "ret = {}\n",
    "instances = [\"la06\"]\n",
    "directory = \"policies/mlp\"\n",
    "max_epoch = 3\n",
    "schedule_cycle = 8\n",
    "\n",
    "for instance in instances:\n",
    "    makespan, policy = tianshou_ppo_train(instance_name=instance, max_epoch=max_epoch, schedule_cycle=schedule_cycle)\n",
    "    file = os.path.join(directory, f\"{instance}_epoch={max_epoch}_schedule_cycle={schedule_cycle}.pth\")\n",
    "    torch.save(policy.state_dict(), file)\n",
    "    #torch.save(policy.state_dict(), \"policy.pth\")\n",
    "    #policy.load_state_dict(torch.load(\"policy.pth\"))\n",
    "    print(f\"============ makespan of {instance} is {makespan} ===============\")\n",
    "    ret[instance] = makespan"
   ]
  },
  {
   "cell_type": "code",
   "execution_count": null,
   "metadata": {},
   "outputs": [],
   "source": []
  },
  {
   "cell_type": "code",
   "execution_count": 4,
   "metadata": {},
   "outputs": [
    {
     "name": "stdout",
     "output_type": "stream",
     "text": [
      "{'ft06': 59, 'la01': 751, 'la06': 1246, 'la11': 1400, 'la21': 1324, 'la31': 2205, 'la36': 1492, 'orb01': 1394, 'swv01': 1737, 'swv06': 2516, 'swv11': 3714, 'yn1': 1123}\n"
     ]
    }
   ],
   "source": [
    "print(ret)"
   ]
  }
 ],
 "metadata": {
  "kernelspec": {
   "display_name": "base",
   "language": "python",
   "name": "python3"
  },
  "language_info": {
   "codemirror_mode": {
    "name": "ipython",
    "version": 3
   },
   "file_extension": ".py",
   "mimetype": "text/x-python",
   "name": "python",
   "nbconvert_exporter": "python",
   "pygments_lexer": "ipython3",
   "version": "3.8.10 (default, Jun  4 2021, 15:09:15) \n[GCC 7.5.0]"
  },
  "orig_nbformat": 4,
  "vscode": {
   "interpreter": {
    "hash": "2f394aca7ca06fed1e6064aef884364492d7cdda3614a461e02e6407fc40ba69"
   }
  }
 },
 "nbformat": 4,
 "nbformat_minor": 2
}
