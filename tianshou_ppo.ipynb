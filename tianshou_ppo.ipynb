{
 "cells": [
  {
   "cell_type": "code",
   "execution_count": 1,
   "metadata": {},
   "outputs": [],
   "source": [
    "from tianshou_ppo import tianshou_ppo_train"
   ]
  },
  {
   "cell_type": "code",
   "execution_count": 2,
   "metadata": {},
   "outputs": [],
   "source": [
    "instances = [\"ft06\", \"la01\", \"la06\", \"la11\", \"la21\", \"la31\", \"la36\", \"orb01\", \"swv01\", \"swv06\", \"swv11\", \"yn1\"]"
   ]
  },
  {
   "cell_type": "code",
   "execution_count": 3,
   "metadata": {},
   "outputs": [
    {
     "name": "stderr",
     "output_type": "stream",
     "text": [
      "Epoch #1: 50001it [00:42, 1181.40it/s, env_step=50000, len=8, loss=-0.006, loss/clip=-0.005, loss/ent=0.119, loss/vf=0.001, n/ep=123, n/st=1000, rew=-2.22]                           \n"
     ]
    },
    {
     "name": "stdout",
     "output_type": "stream",
     "text": [
      "Epoch #1: test_reward: -2.221678 ± 0.000000, best_reward: -2.221678 ± 0.000000 in #1\n",
      "makespan of ft06 is 59\n"
     ]
    },
    {
     "name": "stderr",
     "output_type": "stream",
     "text": [
      "Epoch #1: 50001it [00:43, 1151.03it/s, env_step=50000, len=106, loss=0.406, loss/clip=-0.002, loss/ent=1.479, loss/vf=0.845, n/ep=12, n/st=1000, rew=-19.05]                           \n"
     ]
    },
    {
     "name": "stdout",
     "output_type": "stream",
     "text": [
      "Epoch #1: test_reward: -18.007143 ± 0.000000, best_reward: -16.562778 ± 0.000000 in #0\n",
      "makespan of la01 is 751\n"
     ]
    },
    {
     "name": "stderr",
     "output_type": "stream",
     "text": [
      "Epoch #1: 50001it [01:01, 811.41it/s, env_step=50000, len=128, loss=0.635, loss/clip=-0.004, loss/ent=1.260, loss/vf=1.303, n/ep=7, n/st=1000, rew=-19.02]                            \n"
     ]
    },
    {
     "name": "stdout",
     "output_type": "stream",
     "text": [
      "Epoch #1: test_reward: -36.605253 ± 0.000000, best_reward: -10.221414 ± 0.000000 in #0\n",
      "makespan of la06 is 1246\n"
     ]
    },
    {
     "name": "stderr",
     "output_type": "stream",
     "text": [
      "Epoch #1: 50001it [01:16, 656.73it/s, env_step=50000, len=161, loss=0.622, loss/clip=-0.003, loss/ent=1.745, loss/vf=1.284, n/ep=8, n/st=1000, rew=-18.96]                            \n"
     ]
    },
    {
     "name": "stdout",
     "output_type": "stream",
     "text": [
      "Epoch #1: test_reward: -34.221061 ± 0.000000, best_reward: -13.602576 ± 0.000000 in #0\n",
      "makespan of la11 is 1473\n"
     ]
    },
    {
     "name": "stderr",
     "output_type": "stream",
     "text": [
      "Epoch #1: 50001it [01:26, 575.87it/s, env_step=50000, len=166, loss=0.368, loss/clip=-0.002, loss/ent=1.600, loss/vf=0.772, n/ep=14, n/st=1000, rew=-43.93]                           \n"
     ]
    },
    {
     "name": "stdout",
     "output_type": "stream",
     "text": [
      "Epoch #1: test_reward: -38.598737 ± 0.000000, best_reward: -38.598737 ± 0.000000 in #1\n",
      "makespan of la21 is 1324\n"
     ]
    },
    {
     "name": "stderr",
     "output_type": "stream",
     "text": [
      "Epoch #1: 50001it [02:53, 287.80it/s, env_step=50000, len=239, loss=1.197, loss/clip=-0.004, loss/ent=1.512, loss/vf=2.433, n/ep=3, n/st=1000, rew=-36.86]                            \n"
     ]
    },
    {
     "name": "stdout",
     "output_type": "stream",
     "text": [
      "Epoch #1: test_reward: -44.340501 ± 0.000000, best_reward: -44.340501 ± 0.000000 in #1\n",
      "makespan of la31 is 1951\n"
     ]
    },
    {
     "name": "stderr",
     "output_type": "stream",
     "text": [
      "Epoch #1: 50001it [01:48, 461.44it/s, env_step=50000, len=223, loss=0.499, loss/clip=-0.004, loss/ent=1.247, loss/vf=1.031, n/ep=2, n/st=1000, rew=-88.51]                            \n"
     ]
    },
    {
     "name": "stdout",
     "output_type": "stream",
     "text": [
      "Epoch #1: test_reward: -99.265354 ± 0.000000, best_reward: -98.021582 ± 0.000000 in #0\n",
      "makespan of la36 is 1894\n"
     ]
    },
    {
     "name": "stderr",
     "output_type": "stream",
     "text": [
      "Epoch #1: 50001it [00:59, 833.47it/s, env_step=50000, len=162, loss=0.363, loss/clip=-0.004, loss/ent=1.792, loss/vf=0.771, n/ep=1, n/st=1000, rew=-64.73]                            \n"
     ]
    },
    {
     "name": "stdout",
     "output_type": "stream",
     "text": [
      "Epoch #1: test_reward: -53.372976 ± 0.000000, best_reward: -53.372976 ± 0.000000 in #1\n",
      "makespan of orb01 is 1367\n"
     ]
    },
    {
     "name": "stderr",
     "output_type": "stream",
     "text": [
      "Epoch #1: 50001it [01:40, 495.21it/s, env_step=50000, len=215, loss=0.401, loss/clip=-0.003, loss/ent=0.848, loss/vf=0.825, n/ep=1, n/st=1000, rew=-54.01]                            \n"
     ]
    },
    {
     "name": "stdout",
     "output_type": "stream",
     "text": [
      "Epoch #1: test_reward: -51.764722 ± 0.000000, best_reward: -51.764722 ± 0.000000 in #1\n",
      "makespan of swv01 is 1737\n"
     ]
    },
    {
     "name": "stderr",
     "output_type": "stream",
     "text": [
      "Epoch #1: 50001it [02:14, 371.65it/s, env_step=50000, len=288, loss=0.343, loss/clip=-0.003, loss/ent=1.572, loss/vf=0.723, n/ep=0, n/st=1000, rew=-86.58]                            \n"
     ]
    },
    {
     "name": "stdout",
     "output_type": "stream",
     "text": [
      "Epoch #1: test_reward: -80.886919 ± 0.000000, best_reward: -80.033401 ± 0.000000 in #0\n",
      "makespan of swv06 is 2201\n"
     ]
    },
    {
     "name": "stderr",
     "output_type": "stream",
     "text": [
      "Epoch #1: 50001it [05:09, 161.51it/s, env_step=50000, len=505, loss=0.555, loss/clip=-0.002, loss/ent=1.706, loss/vf=1.149, n/ep=0, n/st=1000, rew=-105.79]                            \n"
     ]
    },
    {
     "name": "stdout",
     "output_type": "stream",
     "text": [
      "Epoch #1: test_reward: -94.217333 ± 0.000000, best_reward: -94.217333 ± 0.000000 in #1\n",
      "makespan of swv11 is 3835\n"
     ]
    },
    {
     "name": "stderr",
     "output_type": "stream",
     "text": [
      "Epoch #1: 50001it [03:09, 264.50it/s, env_step=50000, len=138, loss=0.185, loss/clip=-0.003, loss/ent=1.578, loss/vf=0.408, n/ep=8, n/st=1000, rew=-51.50]                            \n"
     ]
    },
    {
     "name": "stdout",
     "output_type": "stream",
     "text": [
      "Epoch #1: test_reward: -49.845212 ± 0.000000, best_reward: -49.845212 ± 0.000000 in #1\n",
      "makespan of yn1 is 1123\n"
     ]
    }
   ],
   "source": [
    "for instance in instances:\n",
    "    makespan, policy = tianshou_ppo_train(instance_name=instance)\n",
    "    print(f\"makespan of {instance} is {makespan}\")"
   ]
  },
  {
   "cell_type": "code",
   "execution_count": 3,
   "metadata": {},
   "outputs": [
    {
     "name": "stderr",
     "output_type": "stream",
     "text": [
      "Epoch #1: 50001it [00:41, 1204.78it/s, env_step=50000, len=8, loss=-0.004, loss/clip=-0.003, loss/ent=0.150, loss/vf=0.001, n/ep=129, n/st=1000, rew=-2.23]                           \n"
     ]
    },
    {
     "name": "stdout",
     "output_type": "stream",
     "text": [
      "Epoch #1: test_reward: -2.221678 ± 0.000000, best_reward: -2.221678 ± 0.000000 in #1\n"
     ]
    },
    {
     "name": "stderr",
     "output_type": "stream",
     "text": [
      "Epoch #2: 50001it [00:41, 1208.04it/s, env_step=100000, len=8, loss=-0.002, loss/clip=-0.001, loss/ent=0.104, loss/vf=0.000, n/ep=122, n/st=1000, rew=-2.22]                           "
     ]
    },
    {
     "name": "stdout",
     "output_type": "stream",
     "text": [
      "Epoch #2: test_reward: -2.221678 ± 0.000000, best_reward: -2.221678 ± 0.000000 in #1\n"
     ]
    },
    {
     "name": "stderr",
     "output_type": "stream",
     "text": [
      "\n",
      "Epoch #1: 50001it [00:39, 1274.13it/s, env_step=50000, len=99, loss=0.359, loss/clip=-0.003, loss/ent=1.518, loss/vf=0.755, n/ep=7, n/st=1000, rew=-17.22]                             \n"
     ]
    },
    {
     "name": "stdout",
     "output_type": "stream",
     "text": [
      "Epoch #1: test_reward: -18.007143 ± 0.000000, best_reward: -18.007143 ± 0.000000 in #0\n"
     ]
    },
    {
     "name": "stderr",
     "output_type": "stream",
     "text": [
      "Epoch #2: 50001it [00:36, 1381.70it/s, env_step=100000, len=100, loss=0.356, loss/clip=-0.002, loss/ent=1.427, loss/vf=0.745, n/ep=11, n/st=1000, rew=-16.28]                           \n"
     ]
    },
    {
     "name": "stdout",
     "output_type": "stream",
     "text": [
      "Epoch #2: test_reward: -18.007143 ± 0.000000, best_reward: -18.007143 ± 0.000000 in #0\n"
     ]
    },
    {
     "name": "stderr",
     "output_type": "stream",
     "text": [
      "Epoch #1: 50001it [00:51, 980.01it/s, env_step=50000, len=130, loss=0.398, loss/clip=-0.003, loss/ent=1.397, loss/vf=0.829, n/ep=3, n/st=1000, rew=-19.25]                             \n"
     ]
    },
    {
     "name": "stdout",
     "output_type": "stream",
     "text": [
      "Epoch #1: test_reward: -22.614618 ± 0.000000, best_reward: -22.614618 ± 0.000000 in #1\n"
     ]
    },
    {
     "name": "stderr",
     "output_type": "stream",
     "text": [
      "Epoch #2: 50001it [00:49, 1009.00it/s, env_step=100000, len=125, loss=0.413, loss/clip=-0.004, loss/ent=1.548, loss/vf=0.865, n/ep=7, n/st=1000, rew=-18.11]                           \n"
     ]
    },
    {
     "name": "stdout",
     "output_type": "stream",
     "text": [
      "Epoch #2: test_reward: -36.610253 ± 0.000000, best_reward: -22.614618 ± 0.000000 in #1\n"
     ]
    },
    {
     "name": "stderr",
     "output_type": "stream",
     "text": [
      "Epoch #1: 50001it [01:04, 771.44it/s, env_step=50000, len=182, loss=0.902, loss/clip=-0.003, loss/ent=1.851, loss/vf=1.847, n/ep=2, n/st=1000, rew=-28.23]                            \n"
     ]
    },
    {
     "name": "stdout",
     "output_type": "stream",
     "text": [
      "Epoch #1: test_reward: -34.221061 ± 0.000000, best_reward: -34.221061 ± 0.000000 in #1\n"
     ]
    },
    {
     "name": "stderr",
     "output_type": "stream",
     "text": [
      "Epoch #2: 50001it [01:03, 786.75it/s, env_step=100000, len=167, loss=0.517, loss/clip=-0.003, loss/ent=1.568, loss/vf=1.072, n/ep=7, n/st=1000, rew=-24.02]                           \n"
     ]
    },
    {
     "name": "stdout",
     "output_type": "stream",
     "text": [
      "Epoch #2: test_reward: -27.741717 ± 0.000000, best_reward: -27.741717 ± 0.000000 in #2\n"
     ]
    },
    {
     "name": "stderr",
     "output_type": "stream",
     "text": [
      "Epoch #1: 50001it [01:15, 660.35it/s, env_step=50000, len=167, loss=0.377, loss/clip=-0.003, loss/ent=1.511, loss/vf=0.790, n/ep=1, n/st=1000, rew=-47.96]                            \n"
     ]
    },
    {
     "name": "stdout",
     "output_type": "stream",
     "text": [
      "Epoch #1: test_reward: -51.327753 ± 0.000000, best_reward: -51.189621 ± 0.000000 in #0\n"
     ]
    },
    {
     "name": "stderr",
     "output_type": "stream",
     "text": [
      "Epoch #2: 50001it [01:16, 652.47it/s, env_step=100000, len=162, loss=0.285, loss/clip=-0.003, loss/ent=0.864, loss/vf=0.594, n/ep=4, n/st=1000, rew=-38.90]                           \n"
     ]
    },
    {
     "name": "stdout",
     "output_type": "stream",
     "text": [
      "Epoch #2: test_reward: -38.598737 ± 0.000000, best_reward: -38.598737 ± 0.000000 in #2\n"
     ]
    },
    {
     "name": "stderr",
     "output_type": "stream",
     "text": [
      "Epoch #1: 50001it [02:31, 330.59it/s, env_step=50000, len=269, loss=1.573, loss/clip=-0.004, loss/ent=1.666, loss/vf=3.186, n/ep=1, n/st=1000, rew=-53.42]                            \n"
     ]
    },
    {
     "name": "stdout",
     "output_type": "stream",
     "text": [
      "Epoch #1: test_reward: -67.751515 ± 0.000000, best_reward: -67.328611 ± 0.000000 in #0\n"
     ]
    },
    {
     "name": "stderr",
     "output_type": "stream",
     "text": [
      "Epoch #2: 50001it [02:34, 323.71it/s, env_step=100000, len=254, loss=0.661, loss/clip=-0.003, loss/ent=1.603, loss/vf=1.361, n/ep=9, n/st=1000, rew=-48.35]                           \n"
     ]
    },
    {
     "name": "stdout",
     "output_type": "stream",
     "text": [
      "Epoch #2: test_reward: -63.328889 ± 0.000000, best_reward: -63.328889 ± 0.000000 in #2\n"
     ]
    },
    {
     "name": "stderr",
     "output_type": "stream",
     "text": [
      "Epoch #1: 50001it [01:44, 480.16it/s, env_step=50000, len=199, loss=0.567, loss/clip=-0.003, loss/ent=1.478, loss/vf=1.169, n/ep=2, n/st=1000, rew=-78.10]                             \n"
     ]
    },
    {
     "name": "stdout",
     "output_type": "stream",
     "text": [
      "Epoch #1: test_reward: -91.047934 ± 0.000000, best_reward: -91.047934 ± 0.000000 in #1\n"
     ]
    },
    {
     "name": "stderr",
     "output_type": "stream",
     "text": [
      "Epoch #2: 50001it [01:44, 478.02it/s, env_step=100000, len=187, loss=0.291, loss/clip=-0.003, loss/ent=1.061, loss/vf=0.608, n/ep=5, n/st=1000, rew=-71.42]                           \n"
     ]
    },
    {
     "name": "stdout",
     "output_type": "stream",
     "text": [
      "Epoch #2: test_reward: -69.018687 ± 0.000000, best_reward: -69.018687 ± 0.000000 in #2\n"
     ]
    },
    {
     "name": "stderr",
     "output_type": "stream",
     "text": [
      "Epoch #1: 50001it [00:59, 838.12it/s, env_step=50000, len=159, loss=0.461, loss/clip=-0.002, loss/ent=1.327, loss/vf=0.954, n/ep=1, n/st=1000, rew=-56.77]                            \n"
     ]
    },
    {
     "name": "stdout",
     "output_type": "stream",
     "text": [
      "Epoch #1: test_reward: -75.164444 ± 0.000000, best_reward: -70.376667 ± 0.000000 in #0\n"
     ]
    },
    {
     "name": "stderr",
     "output_type": "stream",
     "text": [
      "Epoch #2: 50001it [00:57, 869.58it/s, env_step=100000, len=168, loss=0.343, loss/clip=-0.005, loss/ent=1.620, loss/vf=0.728, n/ep=5, n/st=1000, rew=-55.01]                           \n"
     ]
    },
    {
     "name": "stdout",
     "output_type": "stream",
     "text": [
      "Epoch #2: test_reward: -56.996641 ± 0.000000, best_reward: -56.996641 ± 0.000000 in #2\n"
     ]
    },
    {
     "name": "stderr",
     "output_type": "stream",
     "text": [
      "Epoch #1: 50001it [01:40, 498.08it/s, env_step=50000, len=218, loss=0.349, loss/clip=-0.002, loss/ent=1.313, loss/vf=0.729, n/ep=1, n/st=1000, rew=-56.27]                            \n"
     ]
    },
    {
     "name": "stdout",
     "output_type": "stream",
     "text": [
      "Epoch #1: test_reward: -51.764722 ± 0.000000, best_reward: -51.764722 ± 0.000000 in #1\n"
     ]
    },
    {
     "name": "stderr",
     "output_type": "stream",
     "text": [
      "Epoch #2: 50001it [01:46, 469.21it/s, env_step=100000, len=216, loss=0.092, loss/clip=-0.002, loss/ent=0.646, loss/vf=0.201, n/ep=6, n/st=1000, rew=-54.17]                           \n"
     ]
    },
    {
     "name": "stdout",
     "output_type": "stream",
     "text": [
      "Epoch #2: test_reward: -51.764722 ± 0.000000, best_reward: -51.764722 ± 0.000000 in #1\n"
     ]
    },
    {
     "name": "stderr",
     "output_type": "stream",
     "text": [
      "Epoch #1: 50001it [02:13, 373.58it/s, env_step=50000, len=296, loss=0.461, loss/clip=-0.002, loss/ent=1.269, loss/vf=0.951, n/ep=0, n/st=1000, rew=-88.49]                            \n"
     ]
    },
    {
     "name": "stdout",
     "output_type": "stream",
     "text": [
      "Epoch #1: test_reward: -98.503114 ± 0.000000, best_reward: -98.503114 ± 0.000000 in #1\n"
     ]
    },
    {
     "name": "stderr",
     "output_type": "stream",
     "text": [
      "Epoch #2: 50001it [02:17, 364.82it/s, env_step=100000, len=289, loss=0.258, loss/clip=-0.002, loss/ent=1.609, loss/vf=0.553, n/ep=4, n/st=1000, rew=-91.03]                           \n"
     ]
    },
    {
     "name": "stdout",
     "output_type": "stream",
     "text": [
      "Epoch #2: test_reward: -100.256498 ± 0.000000, best_reward: -98.503114 ± 0.000000 in #1\n"
     ]
    },
    {
     "name": "stderr",
     "output_type": "stream",
     "text": [
      "Epoch #1: 50001it [04:58, 167.38it/s, env_step=50000, len=483, loss=0.380, loss/clip=-0.001, loss/ent=1.831, loss/vf=0.800, n/ep=13, n/st=1000, rew=-87.46]                            \n"
     ]
    },
    {
     "name": "stdout",
     "output_type": "stream",
     "text": [
      "Epoch #1: test_reward: -87.961603 ± 0.000000, best_reward: -80.968815 ± 0.000000 in #0\n"
     ]
    },
    {
     "name": "stderr",
     "output_type": "stream",
     "text": [
      "Epoch #2: 50001it [05:08, 161.87it/s, env_step=100000, len=471, loss=0.311, loss/clip=-0.001, loss/ent=1.266, loss/vf=0.649, n/ep=0, n/st=1000, rew=-81.30]                           \n"
     ]
    },
    {
     "name": "stdout",
     "output_type": "stream",
     "text": [
      "Epoch #2: test_reward: -87.961603 ± 0.000000, best_reward: -80.968815 ± 0.000000 in #0\n"
     ]
    },
    {
     "name": "stderr",
     "output_type": "stream",
     "text": [
      "Epoch #1: 50001it [02:53, 288.75it/s, env_step=50000, len=148, loss=0.173, loss/clip=-0.004, loss/ent=1.438, loss/vf=0.381, n/ep=3, n/st=1000, rew=-58.57]                            \n"
     ]
    },
    {
     "name": "stdout",
     "output_type": "stream",
     "text": [
      "Epoch #1: test_reward: -49.845212 ± 0.000000, best_reward: -49.845212 ± 0.000000 in #1\n"
     ]
    },
    {
     "name": "stderr",
     "output_type": "stream",
     "text": [
      "Epoch #2: 50001it [02:57, 281.76it/s, env_step=100000, len=142, loss=0.116, loss/clip=-0.002, loss/ent=0.950, loss/vf=0.256, n/ep=10, n/st=1000, rew=-52.44]                           \n"
     ]
    },
    {
     "name": "stdout",
     "output_type": "stream",
     "text": [
      "Epoch #2: test_reward: -49.845212 ± 0.000000, best_reward: -49.845212 ± 0.000000 in #1\n"
     ]
    }
   ],
   "source": [
    "ret = {}\n",
    "for instance in instances:\n",
    "    makespan = tianshou_ppo_train(instance_name=instance, max_epoch=3)\n",
    "    ret[instance] = makespan"
   ]
  },
  {
   "cell_type": "code",
   "execution_count": 4,
   "metadata": {},
   "outputs": [
    {
     "name": "stdout",
     "output_type": "stream",
     "text": [
      "{'ft06': 59, 'la01': 751, 'la06': 1246, 'la11': 1400, 'la21': 1324, 'la31': 2205, 'la36': 1492, 'orb01': 1394, 'swv01': 1737, 'swv06': 2516, 'swv11': 3714, 'yn1': 1123}\n"
     ]
    }
   ],
   "source": [
    "print(ret)"
   ]
  }
 ],
 "metadata": {
  "kernelspec": {
   "display_name": "base",
   "language": "python",
   "name": "python3"
  },
  "language_info": {
   "codemirror_mode": {
    "name": "ipython",
    "version": 3
   },
   "file_extension": ".py",
   "mimetype": "text/x-python",
   "name": "python",
   "nbconvert_exporter": "python",
   "pygments_lexer": "ipython3",
   "version": "3.8.10 (default, Jun  4 2021, 15:09:15) \n[GCC 7.5.0]"
  },
  "orig_nbformat": 4,
  "vscode": {
   "interpreter": {
    "hash": "2f394aca7ca06fed1e6064aef884364492d7cdda3614a461e02e6407fc40ba69"
   }
  }
 },
 "nbformat": 4,
 "nbformat_minor": 2
}
