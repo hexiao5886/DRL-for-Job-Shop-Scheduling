{
 "cells": [
  {
   "cell_type": "code",
   "execution_count": 1,
   "metadata": {},
   "outputs": [],
   "source": [
    "from tianshou_ppo import tianshou_ppo_train"
   ]
  },
  {
   "cell_type": "code",
   "execution_count": 2,
   "metadata": {},
   "outputs": [],
   "source": [
    "instances = [\"ft06\", \"la01\", \"la06\", \"la11\", \"la21\", \"la31\", \"la36\", \"orb01\", \"swv01\", \"swv06\", \"swv11\", \"yn1\", \n",
    "            \"swv12\", \"swv13\", \"swv14\", \"swv15\"]"
   ]
  },
  {
   "cell_type": "code",
   "execution_count": 2,
   "metadata": {},
   "outputs": [],
   "source": [
    "instances = [\"ft06\"]"
   ]
  },
  {
   "cell_type": "code",
   "execution_count": 5,
   "metadata": {},
   "outputs": [
    {
     "name": "stderr",
     "output_type": "stream",
     "text": [
      "Epoch #1: 50001it [00:23, 2155.13it/s, env_step=50000, len=8, loss=-0.008, loss/clip=-0.006, loss/ent=0.369, loss/vf=0.003, n/ep=248, n/st=2000, rew=-2.24]                           \n"
     ]
    },
    {
     "name": "stdout",
     "output_type": "stream",
     "text": [
      "Epoch #1: test_reward: -2.221678 ± 0.000000, best_reward: -2.221678 ± 0.000000 in #1\n"
     ]
    },
    {
     "name": "stderr",
     "output_type": "stream",
     "text": [
      "Epoch #2: 50001it [00:23, 2139.23it/s, env_step=100000, len=8, loss=-0.001, loss/clip=0.000, loss/ent=0.117, loss/vf=0.000, n/ep=251, n/st=2000, rew=-2.22]                           \n"
     ]
    },
    {
     "name": "stdout",
     "output_type": "stream",
     "text": [
      "Epoch #2: test_reward: -2.221678 ± 0.000000, best_reward: -2.221678 ± 0.000000 in #1\n",
      "============ makespan of ft06 is 59 ===============\n"
     ]
    }
   ],
   "source": [
    "ret = {}\n",
    "for instance in instances:\n",
    "    makespan, policy = tianshou_ppo_train(instance_name=instance, max_epoch=3, schedule_cycle=8)\n",
    "    print(f\"============ makespan of {instance} is {makespan} ===============\")\n",
    "    ret[instance] = makespan"
   ]
  },
  {
   "cell_type": "code",
   "execution_count": 4,
   "metadata": {},
   "outputs": [
    {
     "name": "stdout",
     "output_type": "stream",
     "text": [
      "{'ft06': 59, 'la01': 751, 'la06': 1246, 'la11': 1400, 'la21': 1324, 'la31': 2205, 'la36': 1492, 'orb01': 1394, 'swv01': 1737, 'swv06': 2516, 'swv11': 3714, 'yn1': 1123}\n"
     ]
    }
   ],
   "source": [
    "print(ret)"
   ]
  }
 ],
 "metadata": {
  "kernelspec": {
   "display_name": "base",
   "language": "python",
   "name": "python3"
  },
  "language_info": {
   "codemirror_mode": {
    "name": "ipython",
    "version": 3
   },
   "file_extension": ".py",
   "mimetype": "text/x-python",
   "name": "python",
   "nbconvert_exporter": "python",
   "pygments_lexer": "ipython3",
   "version": "3.8.10"
  },
  "orig_nbformat": 4,
  "vscode": {
   "interpreter": {
    "hash": "2f394aca7ca06fed1e6064aef884364492d7cdda3614a461e02e6407fc40ba69"
   }
  }
 },
 "nbformat": 4,
 "nbformat_minor": 2
}
