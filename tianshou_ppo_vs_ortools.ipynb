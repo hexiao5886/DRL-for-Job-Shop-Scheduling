{
 "cells": [
  {
   "cell_type": "code",
   "execution_count": 1,
   "metadata": {},
   "outputs": [],
   "source": [
    "from tianshou_ppo import tianshou_ppo_train\n",
    "from ortools_scheduler import ORtools_scheduler\n",
    "from matplotlib import pyplot as plt\n",
    "import numpy as np\n",
    "import os"
   ]
  },
  {
   "cell_type": "code",
   "execution_count": 2,
   "metadata": {},
   "outputs": [],
   "source": [
    "instances = [\"ft06\", \"la01\", \"la06\", \"la11\", \"la21\", \"la31\", \"la36\", \"orb01\", \"swv01\", \"swv06\", \"swv11\", \"yn1\"]\n",
    "test_instances = [\"ft06\"]"
   ]
  },
  {
   "cell_type": "code",
   "execution_count": 3,
   "metadata": {},
   "outputs": [],
   "source": [
    "random_rate = 0.5\n",
    "cv = 0.2\n",
    "epochs = 10"
   ]
  },
  {
   "cell_type": "code",
   "execution_count": 4,
   "metadata": {},
   "outputs": [
    {
     "name": "stderr",
     "output_type": "stream",
     "text": [
      "Model trivially infeasible, variable 26 has lower bound 18 and LowerOrEqual() was called with an upper bound of -1\n"
     ]
    }
   ],
   "source": [
    "%%capture hide_output\n",
    "directory = f\"figs/p{random_rate}cv{cv}epochs{epochs}\"\n",
    "if not os.path.exists(directory):\n",
    "    os.makedirs(directory)\n",
    "\n",
    "ret = {}\n",
    "output = \"\"\n",
    "for instance in instances:\n",
    "    makespan, policy = tianshou_ppo_train(instance_name=instance, max_epoch=epochs, random_rate=random_rate, cv=cv)\n",
    "    ret[instance] = makespan\n",
    "\n",
    "    scheduler = ORtools_scheduler(instance)\n",
    "    scheduler.optimize()\n",
    "    obj_val = scheduler.obj_val\n",
    "\n",
    "    n = 10\n",
    "    policy_vals, ortools_vals, optimal_vals = [], [], []\n",
    "    for _ in range(n):\n",
    "        times = scheduler.shifted_time_(random_rate=random_rate, cv=cv)\n",
    "        policy_val = scheduler.policy_makespan('ppo', policy, shifted_time=times)\n",
    "        ortools_val = scheduler.compute_makespan(shifted_time=times)        # 静态调度面对工时波动\n",
    "\n",
    "        optimal_val = scheduler.get_optimal_of_new_time_mat(times)\n",
    "\n",
    "        policy_vals.append(policy_val)\n",
    "        ortools_vals.append(ortools_val)\n",
    "        optimal_vals.append(optimal_val)\n",
    "\n",
    "    plt.plot(policy_vals, color='g', label='policy')\n",
    "    plt.plot(ortools_vals, color='r', label='ortools')\n",
    "    plt.plot(optimal_vals, color='blue', label='optimal')\n",
    "    policy_vals, ortools_vals, optimal_vals = np.array(policy_vals), np.array(ortools_vals), np.array(optimal_vals)\n",
    "\n",
    "    plt.hlines(np.mean(ortools_vals), -2, n+2, linestyles='dotted', colors='r')\n",
    "    plt.hlines(np.mean(policy_vals), -2, n+2, linestyles='dotted', colors='g')\n",
    "    plt.hlines(np.mean(optimal_vals), -2, n+2, linestyles='dotted', colors='blue')\n",
    "\n",
    "    output += f\"Instance : {instance}\\n\"\n",
    "    output += f\"random rate={random_rate}, cv={cv}, epochs={epochs}\"\n",
    "    output += f\"ortools makespan on 原始算例 is {obj_val}, policy makespan on 原始算例 is {makespan}\\n\"\n",
    "    output += f\"mean of makespan when time mat varies, ortools:{np.mean(ortools_vals)}, policy:{np.mean(policy_vals)}\\n\"\n",
    "    output += f\"std of makespan when time mat varies, ortools:{np.std(ortools_vals)}, policy:{np.std(policy_vals)}\\n\"\n",
    "\n",
    "    plt.xlabel('trial')\n",
    "    plt.ylabel('makespan')\n",
    "    plt.title(f\"random_rate={random_rate},cv={cv},instance={instance}\")\n",
    "    plt.legend()\n",
    "    plt.savefig(f\"{directory}/policy_vs_ortools_{instance}.png\")\n",
    "    plt.clf()"
   ]
  },
  {
   "cell_type": "code",
   "execution_count": 5,
   "metadata": {},
   "outputs": [
    {
     "name": "stdout",
     "output_type": "stream",
     "text": [
      "Instance : ft06\n",
      "random rate=0.5, cv=0.2, epochs=10ortools makespan on 原始算例 is 55.0, policy makespan on 原始算例 is 68\n",
      "mean of makespan when time mat varies, ortools:66.2, policy:67.5\n",
      "std of makespan when time mat varies, ortools:6.257795138864806, policy:8.811923740024081\n",
      "Instance : la01\n",
      "random rate=0.5, cv=0.2, epochs=10ortools makespan on 原始算例 is 666.0, policy makespan on 原始算例 is 751\n",
      "mean of makespan when time mat varies, ortools:891.8, policy:878.8\n",
      "std of makespan when time mat varies, ortools:89.15357536296568, policy:117.12369529689542\n",
      "Instance : la06\n",
      "random rate=0.5, cv=0.2, epochs=10ortools makespan on 原始算例 is 926.0, policy makespan on 原始算例 is 1098\n",
      "mean of makespan when time mat varies, ortools:1200.3, policy:1088.0\n",
      "std of makespan when time mat varies, ortools:69.51985327947693, policy:155.13993683123633\n",
      "Instance : la11\n",
      "random rate=0.5, cv=0.2, epochs=10ortools makespan on 原始算例 is 1222.0, policy makespan on 原始算例 is 1222\n",
      "mean of makespan when time mat varies, ortools:1540.4, policy:1360.9\n",
      "std of makespan when time mat varies, ortools:167.01928032415898, policy:181.62073119553287\n",
      "Instance : la21\n",
      "random rate=0.5, cv=0.2, epochs=10ortools makespan on 原始算例 is 1046.0, policy makespan on 原始算例 is 1324\n",
      "mean of makespan when time mat varies, ortools:1501.4, policy:1531.0\n",
      "std of makespan when time mat varies, ortools:104.47124006155953, policy:152.88230767489088\n",
      "Instance : la31\n",
      "random rate=0.5, cv=0.2, epochs=10ortools makespan on 原始算例 is 1784.0, policy makespan on 原始算例 is 1951\n",
      "mean of makespan when time mat varies, ortools:2506.3, policy:2273.2\n",
      "std of makespan when time mat varies, ortools:168.35144787022176, policy:239.60626035227043\n",
      "Instance : la36\n",
      "random rate=0.5, cv=0.2, epochs=10ortools makespan on 原始算例 is 1268.0, policy makespan on 原始算例 is 1799\n",
      "mean of makespan when time mat varies, ortools:1804.8, policy:1745.6\n",
      "std of makespan when time mat varies, ortools:85.1889664217145, policy:164.07266682784186\n",
      "Instance : orb01\n",
      "random rate=0.5, cv=0.2, epochs=10ortools makespan on 原始算例 is 1059.0, policy makespan on 原始算例 is 1458\n",
      "mean of makespan when time mat varies, ortools:1488.1, policy:1598.5\n",
      "std of makespan when time mat varies, ortools:132.81675346130095, policy:192.88610629073315\n",
      "Instance : swv01\n",
      "random rate=0.5, cv=0.2, epochs=10ortools makespan on 原始算例 is 1428.0, policy makespan on 原始算例 is 1737\n",
      "mean of makespan when time mat varies, ortools:2009.9, policy:1914.5\n",
      "std of makespan when time mat varies, ortools:120.16609338744436, policy:108.0002314812334\n",
      "Instance : swv06\n",
      "random rate=0.5, cv=0.2, epochs=10ortools makespan on 原始算例 is 1753.0, policy makespan on 原始算例 is 2140\n",
      "mean of makespan when time mat varies, ortools:2496.3, policy:2338.7\n",
      "std of makespan when time mat varies, ortools:105.87355666076397, policy:158.83075898578335\n",
      "Instance : swv11\n",
      "random rate=0.5, cv=0.2, epochs=10ortools makespan on 原始算例 is 3342.0, policy makespan on 原始算例 is 3714\n",
      "mean of makespan when time mat varies, ortools:4368.0, policy:3608.1\n",
      "std of makespan when time mat varies, ortools:135.5920351643119, policy:174.72175022017151\n",
      "Instance : yn1\n",
      "random rate=0.5, cv=0.2, epochs=10ortools makespan on 原始算例 is 890.0, policy makespan on 原始算例 is 1196\n",
      "mean of makespan when time mat varies, ortools:1276.3, policy:1243.9\n",
      "std of makespan when time mat varies, ortools:42.1, policy:102.13172866450464\n",
      "\n"
     ]
    }
   ],
   "source": [
    "print(output)"
   ]
  },
  {
   "cell_type": "code",
   "execution_count": 6,
   "metadata": {},
   "outputs": [
    {
     "data": {
      "text/plain": [
       "{'ft06': 68,\n",
       " 'la01': 751,\n",
       " 'la06': 1098,\n",
       " 'la11': 1222,\n",
       " 'la21': 1324,\n",
       " 'la31': 1951,\n",
       " 'la36': 1799,\n",
       " 'orb01': 1458,\n",
       " 'swv01': 1737,\n",
       " 'swv06': 2140,\n",
       " 'swv11': 3714,\n",
       " 'yn1': 1196}"
      ]
     },
     "execution_count": 6,
     "metadata": {},
     "output_type": "execute_result"
    }
   ],
   "source": [
    "ret"
   ]
  }
 ],
 "metadata": {
  "kernelspec": {
   "display_name": "base",
   "language": "python",
   "name": "python3"
  },
  "language_info": {
   "codemirror_mode": {
    "name": "ipython",
    "version": 3
   },
   "file_extension": ".py",
   "mimetype": "text/x-python",
   "name": "python",
   "nbconvert_exporter": "python",
   "pygments_lexer": "ipython3",
   "version": "3.8.10 (default, Jun  4 2021, 15:09:15) \n[GCC 7.5.0]"
  },
  "orig_nbformat": 4,
  "vscode": {
   "interpreter": {
    "hash": "2f394aca7ca06fed1e6064aef884364492d7cdda3614a461e02e6407fc40ba69"
   }
  }
 },
 "nbformat": 4,
 "nbformat_minor": 2
}
