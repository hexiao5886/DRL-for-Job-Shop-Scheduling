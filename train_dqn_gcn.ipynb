{
 "cells": [
  {
   "cell_type": "code",
   "execution_count": 1,
   "metadata": {},
   "outputs": [
    {
     "ename": "ModuleNotFoundError",
     "evalue": "No module named 'torch_geometric'",
     "output_type": "error",
     "traceback": [
      "\u001b[0;31m---------------------------------------------------------------------------\u001b[0m",
      "\u001b[0;31mModuleNotFoundError\u001b[0m                       Traceback (most recent call last)",
      "\u001b[1;32m/root/code/代码/DRL-for-Job-Shop-Scheduling/train_dqn_gcn.ipynb Cell 1\u001b[0m in \u001b[0;36m<cell line: 3>\u001b[0;34m()\u001b[0m\n\u001b[1;32m      <a href='vscode-notebook-cell://ssh-remote%2Bregion-41.seetacloud.com/root/code/%E4%BB%A3%E7%A0%81/DRL-for-Job-Shop-Scheduling/train_dqn_gcn.ipynb#W0sdnNjb2RlLXJlbW90ZQ%3D%3D?line=0'>1</a>\u001b[0m \u001b[39mimport\u001b[39;00m \u001b[39mtorch\u001b[39;00m\u001b[39m.\u001b[39;00m\u001b[39moptim\u001b[39;00m \u001b[39mas\u001b[39;00m \u001b[39moptim\u001b[39;00m\n\u001b[1;32m      <a href='vscode-notebook-cell://ssh-remote%2Bregion-41.seetacloud.com/root/code/%E4%BB%A3%E7%A0%81/DRL-for-Job-Shop-Scheduling/train_dqn_gcn.ipynb#W0sdnNjb2RlLXJlbW90ZQ%3D%3D?line=1'>2</a>\u001b[0m \u001b[39mfrom\u001b[39;00m \u001b[39mIPython\u001b[39;00m\u001b[39m.\u001b[39;00m\u001b[39mdisplay\u001b[39;00m \u001b[39mimport\u001b[39;00m clear_output\n\u001b[0;32m----> <a href='vscode-notebook-cell://ssh-remote%2Bregion-41.seetacloud.com/root/code/%E4%BB%A3%E7%A0%81/DRL-for-Job-Shop-Scheduling/train_dqn_gcn.ipynb#W0sdnNjb2RlLXJlbW90ZQ%3D%3D?line=2'>3</a>\u001b[0m \u001b[39mfrom\u001b[39;00m \u001b[39mrl\u001b[39;00m\u001b[39m.\u001b[39;00m\u001b[39magent\u001b[39;00m \u001b[39mimport\u001b[39;00m DQNAgent_GCN\n\u001b[1;32m      <a href='vscode-notebook-cell://ssh-remote%2Bregion-41.seetacloud.com/root/code/%E4%BB%A3%E7%A0%81/DRL-for-Job-Shop-Scheduling/train_dqn_gcn.ipynb#W0sdnNjb2RlLXJlbW90ZQ%3D%3D?line=3'>4</a>\u001b[0m \u001b[39mfrom\u001b[39;00m \u001b[39mgymjsp\u001b[39;00m\u001b[39m.\u001b[39;00m\u001b[39mjsspenv\u001b[39;00m \u001b[39mimport\u001b[39;00m HeuristicJsspEnv, HeuristicGraphJsspEnv\n\u001b[1;32m      <a href='vscode-notebook-cell://ssh-remote%2Bregion-41.seetacloud.com/root/code/%E4%BB%A3%E7%A0%81/DRL-for-Job-Shop-Scheduling/train_dqn_gcn.ipynb#W0sdnNjb2RlLXJlbW90ZQ%3D%3D?line=4'>5</a>\u001b[0m \u001b[39mimport\u001b[39;00m \u001b[39mnetworkx\u001b[39;00m \u001b[39mas\u001b[39;00m \u001b[39mnx\u001b[39;00m\n",
      "File \u001b[0;32m~/code/代码/DRL-for-Job-Shop-Scheduling/rl/agent.py:12\u001b[0m, in \u001b[0;36m<module>\u001b[0;34m\u001b[0m\n\u001b[1;32m      9\u001b[0m \u001b[39mfrom\u001b[39;00m \u001b[39mtorch\u001b[39;00m\u001b[39m.\u001b[39;00m\u001b[39mnn\u001b[39;00m\u001b[39m.\u001b[39;00m\u001b[39mutils\u001b[39;00m \u001b[39mimport\u001b[39;00m clip_grad_norm_\n\u001b[1;32m     11\u001b[0m \u001b[39mfrom\u001b[39;00m \u001b[39m.\u001b[39;00m\u001b[39mbuffer\u001b[39;00m \u001b[39mimport\u001b[39;00m ReplayBuffer, PrioritizedReplayBuffer\n\u001b[0;32m---> 12\u001b[0m \u001b[39mfrom\u001b[39;00m \u001b[39m.\u001b[39;00m\u001b[39mnetwork\u001b[39;00m \u001b[39mimport\u001b[39;00m Network, Dueling_Network, Dueling_NoisyNetwork, GCN\n\u001b[1;32m     15\u001b[0m \u001b[39mclass\u001b[39;00m \u001b[39mDQNAgent\u001b[39;00m:\n\u001b[1;32m     16\u001b[0m     \u001b[39m\"\"\"DQN Agent interacting with environment.\u001b[39;00m\n\u001b[1;32m     17\u001b[0m \u001b[39m    \u001b[39;00m\n\u001b[1;32m     18\u001b[0m \u001b[39m    Attribute:\u001b[39;00m\n\u001b[0;32m   (...)\u001b[0m\n\u001b[1;32m     34\u001b[0m \u001b[39m        prior_eps (float): guarantees every transition can be sampled\u001b[39;00m\n\u001b[1;32m     35\u001b[0m \u001b[39m    \"\"\"\u001b[39;00m\n",
      "File \u001b[0;32m~/code/代码/DRL-for-Job-Shop-Scheduling/rl/network.py:215\u001b[0m, in \u001b[0;36m<module>\u001b[0;34m\u001b[0m\n\u001b[1;32m    213\u001b[0m \u001b[39mfrom\u001b[39;00m \u001b[39mtorch\u001b[39;00m\u001b[39m.\u001b[39;00m\u001b[39mnn\u001b[39;00m \u001b[39mimport\u001b[39;00m Linear\n\u001b[1;32m    214\u001b[0m \u001b[39mimport\u001b[39;00m \u001b[39mtorch\u001b[39;00m\u001b[39m.\u001b[39;00m\u001b[39mnn\u001b[39;00m\u001b[39m.\u001b[39;00m\u001b[39mfunctional\u001b[39;00m \u001b[39mas\u001b[39;00m \u001b[39mF\u001b[39;00m\n\u001b[0;32m--> 215\u001b[0m \u001b[39mfrom\u001b[39;00m \u001b[39mtorch_geometric\u001b[39;00m\u001b[39m.\u001b[39;00m\u001b[39mnn\u001b[39;00m \u001b[39mimport\u001b[39;00m GCNConv\n\u001b[1;32m    216\u001b[0m \u001b[39mfrom\u001b[39;00m \u001b[39mtorch_geometric\u001b[39;00m\u001b[39m.\u001b[39;00m\u001b[39mnn\u001b[39;00m \u001b[39mimport\u001b[39;00m global_mean_pool\n\u001b[1;32m    219\u001b[0m \u001b[39mclass\u001b[39;00m \u001b[39mGCN\u001b[39;00m(torch\u001b[39m.\u001b[39mnn\u001b[39m.\u001b[39mModule):\n",
      "\u001b[0;31mModuleNotFoundError\u001b[0m: No module named 'torch_geometric'"
     ]
    }
   ],
   "source": [
    "import torch.optim as optim\n",
    "from IPython.display import clear_output\n",
    "from rl.agent import DQNAgent_GCN\n",
    "from gymjsp.jsspenv import HeuristicJsspEnv, HeuristicGraphJsspEnv\n",
    "import networkx as nx\n",
    "import numpy as np\n",
    "import torch\n",
    "from train_dqn_gcn import train_dqn_gcn"
   ]
  },
  {
   "cell_type": "code",
   "execution_count": 6,
   "metadata": {},
   "outputs": [
    {
     "data": {
      "text/plain": [
       "'11.3'"
      ]
     },
     "execution_count": 6,
     "metadata": {},
     "output_type": "execute_result"
    }
   ],
   "source": [
    "import torch\n",
    "torch.version.cuda"
   ]
  },
  {
   "cell_type": "code",
   "execution_count": null,
   "metadata": {},
   "outputs": [],
   "source": [
    "num_episodes = 100\n",
    "memory_size = 100000\n",
    "batch_size = 64\n",
    "target_update = 100\n",
    "plotting_inteval = 10"
   ]
  },
  {
   "cell_type": "code",
   "execution_count": null,
   "metadata": {},
   "outputs": [],
   "source": [
    "ret = {}\n",
    "instances = [\"ft06\", \"la01\", \"la06\", \"la11\", \"la21\", \"la31\", \"la36\", \"orb01\", \"swv01\", \"swv06\", \"swv11\", \"yn1\", \n",
    "            \"swv12\", \"swv13\", \"swv14\", \"swv15\"]"
   ]
  },
  {
   "cell_type": "code",
   "execution_count": null,
   "metadata": {},
   "outputs": [],
   "source": [
    "instances = [\"ft06\"]"
   ]
  },
  {
   "cell_type": "code",
   "execution_count": null,
   "metadata": {},
   "outputs": [],
   "source": [
    "for instance in instances:\n",
    "    plot_file = f\"plots_training_dynamic_gcn/{instance}/num_episodes={num_episodes}_memory_size={memory_size}_target_update={target_update}.png\"\n",
    "    policy, t = train_dqn_gcn(instance, num_episodes=num_episodes, memory_size=memory_size, batch_size=batch_size, \n",
    "                          target_update=target_update, plotting_interval=plotting_inteval, save_plot=plot_file)\n",
    "    policy_file = f\"policies/dqn_gcn/{instance}_num_episodes={num_episodes}_memory_size={memory_size}_target_update={target_update}.pth\"\n",
    "    torch.save(policy.state_dict(), policy_file)\n",
    "    ret[instance] = t"
   ]
  },
  {
   "cell_type": "code",
   "execution_count": null,
   "metadata": {},
   "outputs": [],
   "source": [
    "#### a test of gcn input and output\n",
    "\"\"\"\"\n",
    "from rl.network import GCN\n",
    "env = HeuristicGraphJsspEnv(\"ft06\")\n",
    "env.reset()\n",
    "net = GCN(num_node_features=10, num_classes=8)\n",
    "edge_index = torch.FloatTensor(env.edge_index).long()\n",
    "x = torch.zeros((64, 360))\n",
    "print(x.shape)\n",
    "out = net(x, edge_index, batch_size=64)\n",
    "print(out.shape)\n",
    "\"\"\"\n",
    "\"\"\"\n",
    "torch.Size([64, 360])\n",
    "torch.Size([64, 8])\n",
    "\"\"\""
   ]
  }
 ],
 "metadata": {
  "kernelspec": {
   "display_name": "base",
   "language": "python",
   "name": "python3"
  },
  "language_info": {
   "codemirror_mode": {
    "name": "ipython",
    "version": 3
   },
   "file_extension": ".py",
   "mimetype": "text/x-python",
   "name": "python",
   "nbconvert_exporter": "python",
   "pygments_lexer": "ipython3",
   "version": "3.8.10"
  },
  "orig_nbformat": 4,
  "vscode": {
   "interpreter": {
    "hash": "2f394aca7ca06fed1e6064aef884364492d7cdda3614a461e02e6407fc40ba69"
   }
  }
 },
 "nbformat": 4,
 "nbformat_minor": 2
}
