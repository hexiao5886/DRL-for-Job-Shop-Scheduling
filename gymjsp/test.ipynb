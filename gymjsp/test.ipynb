{
 "cells": [
  {
   "cell_type": "code",
   "execution_count": 1,
   "metadata": {},
   "outputs": [],
   "source": [
    "import torch\n",
    "import torch.nn as nn"
   ]
  },
  {
   "cell_type": "code",
   "execution_count": 2,
   "metadata": {},
   "outputs": [],
   "source": [
    "def mlp(sizes, activation=nn.ReLU, output_activation=nn.Identity):\n",
    "    layers = []\n",
    "    for j in range(len(sizes)-1):\n",
    "        act = activation if j < len(sizes)-2 else output_activation\n",
    "        layers += [nn.Linear(sizes[j], sizes[j+1]), act()]\n",
    "    return nn.Sequential(*layers)"
   ]
  },
  {
   "cell_type": "code",
   "execution_count": 3,
   "metadata": {},
   "outputs": [],
   "source": [
    "class Actor(nn.Module):\n",
    "    def __init__(self, feature_extract):\n",
    "        super(Actor, self).__init__()\n",
    "        self.feature_extract =  feature_extract\n",
    "        self.mlp = mlp([64, 10])\n",
    "        \n",
    "    \n",
    "    def forward(self, x):\n",
    "        x = self.feature_extract(x)\n",
    "        x = self.mlp(x)\n",
    "        return x"
   ]
  },
  {
   "cell_type": "code",
   "execution_count": 4,
   "metadata": {},
   "outputs": [],
   "source": [
    "feature_extract = mlp([64, 64])\n",
    "actor = Actor(feature_extract=feature_extract)"
   ]
  },
  {
   "cell_type": "code",
   "execution_count": 5,
   "metadata": {},
   "outputs": [],
   "source": [
    "batch_size = 10\n",
    "x = torch.rand((batch_size, 64))\n",
    "actor_out = actor(x)"
   ]
  },
  {
   "cell_type": "code",
   "execution_count": 6,
   "metadata": {},
   "outputs": [
    {
     "name": "stdout",
     "output_type": "stream",
     "text": [
      "tensor(0.4350, grad_fn=<MseLossBackward0>)\n"
     ]
    }
   ],
   "source": [
    "actor_label = torch.rand((batch_size, 10))\n",
    "loss_fn = nn.MSELoss()\n",
    "actor_loss = loss_fn(actor_label, actor_out)\n",
    "print(actor_loss)"
   ]
  },
  {
   "cell_type": "code",
   "execution_count": 9,
   "metadata": {},
   "outputs": [
    {
     "data": {
      "text/plain": [
       "[Parameter containing:\n",
       " tensor([[-4.3276e-02,  8.2608e-02,  5.2922e-02,  ...,  8.5482e-02,\n",
       "           8.5523e-02,  2.5699e-02],\n",
       "         [-1.0463e-01,  9.2084e-02,  6.6882e-02,  ..., -1.0245e-01,\n",
       "           1.2008e-01, -7.0674e-03],\n",
       "         [ 9.1978e-02,  8.9840e-02, -1.2117e-01,  ..., -7.6714e-02,\n",
       "           1.1591e-03,  3.7793e-02],\n",
       "         ...,\n",
       "         [-3.1141e-03, -8.6605e-02, -4.3342e-02,  ..., -7.8976e-05,\n",
       "          -3.1943e-02, -1.1460e-01],\n",
       "         [ 8.5651e-02,  1.4943e-02, -9.1573e-02,  ..., -1.1747e-01,\n",
       "           5.6839e-02,  9.6282e-02],\n",
       "         [-5.7501e-02,  7.1120e-02, -3.6035e-02,  ..., -5.3469e-02,\n",
       "          -5.3681e-02, -3.2296e-02]], requires_grad=True),\n",
       " Parameter containing:\n",
       " tensor([ 0.0572, -0.0287,  0.0044, -0.0911, -0.0667, -0.0174, -0.0043, -0.0451,\n",
       "          0.0847,  0.0097,  0.0620,  0.0180,  0.0878,  0.1005,  0.0419, -0.0678,\n",
       "         -0.0747,  0.0355, -0.0825, -0.0514,  0.0374,  0.0405,  0.0347, -0.0311,\n",
       "          0.1047,  0.0908,  0.1030, -0.0277,  0.0094, -0.1106,  0.0898,  0.0626,\n",
       "         -0.0416, -0.0780,  0.0535,  0.0677,  0.0419, -0.0982, -0.1128,  0.1031,\n",
       "         -0.0877,  0.0416,  0.0476,  0.0441,  0.1211, -0.1146,  0.0932,  0.0320,\n",
       "         -0.0146,  0.0279,  0.0131,  0.0983,  0.1036,  0.0903, -0.1089, -0.0700,\n",
       "          0.0615, -0.0086,  0.0645, -0.0512,  0.0503,  0.0510, -0.1043, -0.0535],\n",
       "        requires_grad=True)]"
      ]
     },
     "execution_count": 9,
     "metadata": {},
     "output_type": "execute_result"
    }
   ],
   "source": [
    "list(feature_extract.parameters())"
   ]
  },
  {
   "cell_type": "code",
   "execution_count": 11,
   "metadata": {},
   "outputs": [],
   "source": [
    "opt = torch.optim.Adam(actor.parameters(), lr=0.01)\n",
    "opt.zero_grad()\n",
    "actor_loss.backward()\n",
    "opt.step()"
   ]
  },
  {
   "cell_type": "code",
   "execution_count": 12,
   "metadata": {},
   "outputs": [
    {
     "data": {
      "text/plain": [
       "[Parameter containing:\n",
       " tensor([[-0.0533,  0.0726,  0.0429,  ...,  0.0755,  0.0755,  0.0157],\n",
       "         [-0.0946,  0.0821,  0.0569,  ..., -0.1124,  0.1101, -0.0171],\n",
       "         [ 0.1020,  0.0998, -0.1112,  ..., -0.0667,  0.0112,  0.0478],\n",
       "         ...,\n",
       "         [-0.0131, -0.0966, -0.0533,  ...,  0.0099, -0.0419, -0.1246],\n",
       "         [ 0.0957,  0.0249, -0.0816,  ..., -0.1075,  0.0668,  0.1063],\n",
       "         [-0.0475,  0.0811, -0.0260,  ..., -0.0435, -0.0437, -0.0223]],\n",
       "        requires_grad=True),\n",
       " Parameter containing:\n",
       " tensor([ 0.0472, -0.0387,  0.0144, -0.1011, -0.0767, -0.0274,  0.0057, -0.0551,\n",
       "          0.0947,  0.0197,  0.0720,  0.0080,  0.0978,  0.1105,  0.0319, -0.0578,\n",
       "         -0.0847,  0.0455, -0.0925, -0.0614,  0.0274,  0.0305,  0.0447, -0.0411,\n",
       "          0.1147,  0.1008,  0.1130, -0.0377, -0.0006, -0.1006,  0.0998,  0.0726,\n",
       "         -0.0516, -0.0680,  0.0635,  0.0777,  0.0519, -0.1082, -0.1028,  0.0931,\n",
       "         -0.0977,  0.0516,  0.0576,  0.0341,  0.1311, -0.1046,  0.0832,  0.0420,\n",
       "         -0.0046,  0.0379,  0.0231,  0.0883,  0.1136,  0.0803, -0.0989, -0.0800,\n",
       "          0.0515, -0.0186,  0.0745, -0.0412,  0.0403,  0.0410, -0.0943, -0.0435],\n",
       "        requires_grad=True)]"
      ]
     },
     "execution_count": 12,
     "metadata": {},
     "output_type": "execute_result"
    }
   ],
   "source": [
    "list(feature_extract.parameters())"
   ]
  },
  {
   "cell_type": "code",
   "execution_count": null,
   "metadata": {},
   "outputs": [],
   "source": []
  }
 ],
 "metadata": {
  "kernelspec": {
   "display_name": "base",
   "language": "python",
   "name": "python3"
  },
  "language_info": {
   "codemirror_mode": {
    "name": "ipython",
    "version": 3
   },
   "file_extension": ".py",
   "mimetype": "text/x-python",
   "name": "python",
   "nbconvert_exporter": "python",
   "pygments_lexer": "ipython3",
   "version": "3.9.13"
  },
  "orig_nbformat": 4,
  "vscode": {
   "interpreter": {
    "hash": "dce9ce0b8994960befdaf1abc06919148bccb19973be1d090d69590bd56698c8"
   }
  }
 },
 "nbformat": 4,
 "nbformat_minor": 2
}
