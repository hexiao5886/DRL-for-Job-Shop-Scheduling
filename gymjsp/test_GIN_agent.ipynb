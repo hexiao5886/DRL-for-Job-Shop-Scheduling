{
 "cells": [
  {
   "cell_type": "code",
   "execution_count": 1,
   "id": "a8cca842-a1b8-4d2f-8834-d60d991657cf",
   "metadata": {},
   "outputs": [],
   "source": [
    "import torch\n",
    "import numpy as np\n",
    "import matplotlib.pyplot as plt\n",
    "from GIN_jsspenv import GIN_JsspEnv\n",
    "from hands_on_rl import PPO"
   ]
  },
  {
   "cell_type": "code",
   "execution_count": 2,
   "id": "11c1af27",
   "metadata": {},
   "outputs": [],
   "source": [
    "instances = [\"ft06\", \"la01\", \"la06\", \"la11\", \"la21\", \"la31\", \"la36\", \"orb01\", \"swv01\", \"swv06\", \"swv11\", \"yn1\"]\n",
    "ret = {}"
   ]
  },
  {
   "cell_type": "code",
   "execution_count": 3,
   "id": "45f83fc1-3fec-4646-ba8a-88e15bcd0711",
   "metadata": {},
   "outputs": [
    {
     "name": "stderr",
     "output_type": "stream",
     "text": [
      "d:\\桌面文件夹\\桌面\\毕设\\github\\DRL-for-Job-Shop-Scheduling\\gymjsp\\GIN_jsspenv.py:211: VisibleDeprecationWarning: Creating an ndarray from ragged nested sequences (which is a list-or-tuple of lists-or-tuples-or ndarrays with different lengths or shapes) is deprecated. If you meant to do this, you must specify 'dtype=object' when creating the ndarray\n",
      "  state = np.array([adj, feature, mask, candidate_operation_indexes])\n",
      "d:\\桌面文件夹\\桌面\\毕设\\github\\DRL-for-Job-Shop-Scheduling\\gymjsp\\GIN_jsspenv.py:141: VisibleDeprecationWarning: Creating an ndarray from ragged nested sequences (which is a list-or-tuple of lists-or-tuples-or ndarrays with different lengths or shapes) is deprecated. If you meant to do this, you must specify 'dtype=object' when creating the ndarray\n",
      "  state = np.array([adj, feature, mask, candidate_operation_indexes])\n"
     ]
    }
   ],
   "source": [
    "for instance in instances:\n",
    "    env = GIN_JsspEnv(instance)\n",
    "    env.seed(0)\n",
    "    torch.manual_seed(0)\n",
    "    device = torch.device(\"cuda\") if torch.cuda.is_available() else torch.device(\"cpu\")\n",
    "    agent = PPO(device)\n",
    "    agent.load(\"2023-04-16-15-18-40_actor.pth\",\"2023-04-16-15-18-40_critic.pth\")\n",
    "    state = env.reset()\n",
    "    done = False\n",
    "    episode_return = 0\n",
    "    while not done:\n",
    "        action = agent.take_action(state, determinstic=True)\n",
    "        next_state, reward, done, info = env.step(action)\n",
    "        state = next_state\n",
    "        episode_return += reward\n",
    "        \n",
    "    ret[instance] = info[\"makespan\"]"
   ]
  },
  {
   "cell_type": "code",
   "execution_count": 4,
   "id": "186ccd44-ec94-4f75-b451-921267f9e384",
   "metadata": {},
   "outputs": [
    {
     "data": {
      "text/plain": [
       "{'ft06': 62,\n",
       " 'la01': 809,\n",
       " 'la06': 1331,\n",
       " 'la11': 1641,\n",
       " 'la21': 1481,\n",
       " 'la31': 2959,\n",
       " 'la36': 1869,\n",
       " 'orb01': 1619,\n",
       " 'swv01': 2519,\n",
       " 'swv06': 3052,\n",
       " 'swv11': 5577,\n",
       " 'yn1': 1326}"
      ]
     },
     "execution_count": 4,
     "metadata": {},
     "output_type": "execute_result"
    }
   ],
   "source": [
    "ret"
   ]
  },
  {
   "cell_type": "code",
   "execution_count": 8,
   "id": "707423fe-fbaf-4e05-9212-6532c6bc94f0",
   "metadata": {
    "tags": []
   },
   "outputs": [
    {
     "name": "stderr",
     "output_type": "stream",
     "text": [
      "/root/code/DRL-for-Job-Shop-Scheduling/gymjsp/GIN_jsspenv.py:154: DeprecationWarning: `np.int` is a deprecated alias for the builtin `int`. To silence this warning, use `int` by itself. Doing this will not modify any behavior and is safe. When replacing `np.int`, you may wish to use e.g. `np.int64` or `np.int32` to specify the precision. If you wish to review your current use, check the release note link for additional information.\n",
      "Deprecated in NumPy 1.20; for more details and guidance: https://numpy.org/devdocs/release/1.20.0-notes.html#deprecations\n",
      "  self.op_to_assign = np.zeros(self.num_jobs, dtype=np.int)\n",
      "/root/code/DRL-for-Job-Shop-Scheduling/gymjsp/GIN_jsspenv.py:211: VisibleDeprecationWarning: Creating an ndarray from ragged nested sequences (which is a list-or-tuple of lists-or-tuples-or ndarrays with different lengths or shapes) is deprecated. If you meant to do this, you must specify 'dtype=object' when creating the ndarray.\n",
      "  state = np.array([adj, feature, mask, candidate_operation_indexes])\n",
      "/root/code/DRL-for-Job-Shop-Scheduling/gymjsp/GIN_jsspenv.py:141: VisibleDeprecationWarning: Creating an ndarray from ragged nested sequences (which is a list-or-tuple of lists-or-tuples-or ndarrays with different lengths or shapes) is deprecated. If you meant to do this, you must specify 'dtype=object' when creating the ndarray.\n",
      "  state = np.array([adj, feature, mask, candidate_operation_indexes])\n"
     ]
    },
    {
     "name": "stdout",
     "output_type": "stream",
     "text": [
      "869.48\n"
     ]
    }
   ],
   "source": [
    "num_simulations = 100\n",
    "makespans = []\n",
    "for _ in range(num_simulations):\n",
    "    state = env.reset()\n",
    "    done = False\n",
    "    episode_return = 0\n",
    "    while not done:\n",
    "        action = agent.take_random_action(state)\n",
    "        next_state, reward, done, info = env.step(action)\n",
    "        state = next_state\n",
    "        episode_return += reward\n",
    "    makespans.append(info[\"makespan\"])\n",
    "makespans = np.array(makespans)\n",
    "print(makespans.mean())"
   ]
  },
  {
   "cell_type": "code",
   "execution_count": null,
   "id": "32927d81-6386-41b1-832f-5f72fe573c31",
   "metadata": {},
   "outputs": [],
   "source": []
  }
 ],
 "metadata": {
  "kernelspec": {
   "display_name": "Python 3 (ipykernel)",
   "language": "python",
   "name": "python3"
  },
  "language_info": {
   "codemirror_mode": {
    "name": "ipython",
    "version": 3
   },
   "file_extension": ".py",
   "mimetype": "text/x-python",
   "name": "python",
   "nbconvert_exporter": "python",
   "pygments_lexer": "ipython3",
   "version": "3.8.10"
  },
  "vscode": {
   "interpreter": {
    "hash": "dce9ce0b8994960befdaf1abc06919148bccb19973be1d090d69590bd56698c8"
   }
  }
 },
 "nbformat": 4,
 "nbformat_minor": 5
}
