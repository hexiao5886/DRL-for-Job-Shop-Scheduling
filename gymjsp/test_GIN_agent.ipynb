{
 "cells": [
  {
   "cell_type": "code",
   "execution_count": 1,
   "id": "a8cca842-a1b8-4d2f-8834-d60d991657cf",
   "metadata": {},
   "outputs": [],
   "source": [
    "import torch\n",
    "import numpy as np\n",
    "import matplotlib.pyplot as plt\n",
    "from GIN_jsspenv import GIN_JsspEnv\n",
    "from hands_on_rl import PPO"
   ]
  },
  {
   "cell_type": "code",
   "execution_count": 2,
   "id": "45f83fc1-3fec-4646-ba8a-88e15bcd0711",
   "metadata": {},
   "outputs": [],
   "source": [
    "device = torch.device(\"cuda\") if torch.cuda.is_available() else torch.device(\"cpu\")\n",
    "env_name = 'la01'\n",
    "env = GIN_JsspEnv(env_name)\n",
    "env.seed(0)\n",
    "torch.manual_seed(0)\n",
    "agent = PPO(device)"
   ]
  },
  {
   "cell_type": "code",
   "execution_count": 3,
   "id": "fef08f48-a163-428c-9140-6f3a072fd532",
   "metadata": {},
   "outputs": [],
   "source": [
    "agent.load(\"2023-04-16-15-18-40_actor.pth\",\"2023-04-16-15-18-40_critic.pth\")"
   ]
  },
  {
   "cell_type": "code",
   "execution_count": 4,
   "id": "925c6806-762a-4e93-95fa-f41d7895123d",
   "metadata": {},
   "outputs": [
    {
     "name": "stdout",
     "output_type": "stream",
     "text": [
      "makespan is:\n",
      "809\n"
     ]
    },
    {
     "name": "stderr",
     "output_type": "stream",
     "text": [
      "/root/code/DRL-for-Job-Shop-Scheduling/gymjsp/GIN_jsspenv.py:154: DeprecationWarning: `np.int` is a deprecated alias for the builtin `int`. To silence this warning, use `int` by itself. Doing this will not modify any behavior and is safe. When replacing `np.int`, you may wish to use e.g. `np.int64` or `np.int32` to specify the precision. If you wish to review your current use, check the release note link for additional information.\n",
      "Deprecated in NumPy 1.20; for more details and guidance: https://numpy.org/devdocs/release/1.20.0-notes.html#deprecations\n",
      "  self.op_to_assign = np.zeros(self.num_jobs, dtype=np.int)\n",
      "/root/code/DRL-for-Job-Shop-Scheduling/gymjsp/GIN_jsspenv.py:211: VisibleDeprecationWarning: Creating an ndarray from ragged nested sequences (which is a list-or-tuple of lists-or-tuples-or ndarrays with different lengths or shapes) is deprecated. If you meant to do this, you must specify 'dtype=object' when creating the ndarray.\n",
      "  state = np.array([adj, feature, mask, candidate_operation_indexes])\n",
      "/root/code/DRL-for-Job-Shop-Scheduling/gymjsp/GIN_jsspenv.py:141: VisibleDeprecationWarning: Creating an ndarray from ragged nested sequences (which is a list-or-tuple of lists-or-tuples-or ndarrays with different lengths or shapes) is deprecated. If you meant to do this, you must specify 'dtype=object' when creating the ndarray.\n",
      "  state = np.array([adj, feature, mask, candidate_operation_indexes])\n"
     ]
    }
   ],
   "source": [
    "state = env.reset()\n",
    "done = False\n",
    "episode_return = 0\n",
    "while not done:\n",
    "    action = agent.take_action(state, determinstic=True)\n",
    "    next_state, reward, done, info = env.step(action)\n",
    "    state = next_state\n",
    "    episode_return += reward\n",
    "print(\"makespan is:\")\n",
    "print(info[\"makespan\"])"
   ]
  },
  {
   "cell_type": "code",
   "execution_count": null,
   "id": "186ccd44-ec94-4f75-b451-921267f9e384",
   "metadata": {},
   "outputs": [],
   "source": []
  },
  {
   "cell_type": "code",
   "execution_count": 8,
   "id": "707423fe-fbaf-4e05-9212-6532c6bc94f0",
   "metadata": {
    "tags": []
   },
   "outputs": [
    {
     "name": "stderr",
     "output_type": "stream",
     "text": [
      "/root/code/DRL-for-Job-Shop-Scheduling/gymjsp/GIN_jsspenv.py:154: DeprecationWarning: `np.int` is a deprecated alias for the builtin `int`. To silence this warning, use `int` by itself. Doing this will not modify any behavior and is safe. When replacing `np.int`, you may wish to use e.g. `np.int64` or `np.int32` to specify the precision. If you wish to review your current use, check the release note link for additional information.\n",
      "Deprecated in NumPy 1.20; for more details and guidance: https://numpy.org/devdocs/release/1.20.0-notes.html#deprecations\n",
      "  self.op_to_assign = np.zeros(self.num_jobs, dtype=np.int)\n",
      "/root/code/DRL-for-Job-Shop-Scheduling/gymjsp/GIN_jsspenv.py:211: VisibleDeprecationWarning: Creating an ndarray from ragged nested sequences (which is a list-or-tuple of lists-or-tuples-or ndarrays with different lengths or shapes) is deprecated. If you meant to do this, you must specify 'dtype=object' when creating the ndarray.\n",
      "  state = np.array([adj, feature, mask, candidate_operation_indexes])\n",
      "/root/code/DRL-for-Job-Shop-Scheduling/gymjsp/GIN_jsspenv.py:141: VisibleDeprecationWarning: Creating an ndarray from ragged nested sequences (which is a list-or-tuple of lists-or-tuples-or ndarrays with different lengths or shapes) is deprecated. If you meant to do this, you must specify 'dtype=object' when creating the ndarray.\n",
      "  state = np.array([adj, feature, mask, candidate_operation_indexes])\n"
     ]
    },
    {
     "name": "stdout",
     "output_type": "stream",
     "text": [
      "869.48\n"
     ]
    }
   ],
   "source": [
    "num_simulations = 100\n",
    "makespans = []\n",
    "for _ in range(num_simulations):\n",
    "    state = env.reset()\n",
    "    done = False\n",
    "    episode_return = 0\n",
    "    while not done:\n",
    "        action = agent.take_random_action(state)\n",
    "        next_state, reward, done, info = env.step(action)\n",
    "        state = next_state\n",
    "        episode_return += reward\n",
    "    makespans.append(info[\"makespan\"])\n",
    "makespans = np.array(makespans)\n",
    "print(makespans.mean())"
   ]
  },
  {
   "cell_type": "code",
   "execution_count": null,
   "id": "32927d81-6386-41b1-832f-5f72fe573c31",
   "metadata": {},
   "outputs": [],
   "source": []
  }
 ],
 "metadata": {
  "kernelspec": {
   "display_name": "Python 3 (ipykernel)",
   "language": "python",
   "name": "python3"
  },
  "language_info": {
   "codemirror_mode": {
    "name": "ipython",
    "version": 3
   },
   "file_extension": ".py",
   "mimetype": "text/x-python",
   "name": "python",
   "nbconvert_exporter": "python",
   "pygments_lexer": "ipython3",
   "version": "3.8.10"
  }
 },
 "nbformat": 4,
 "nbformat_minor": 5
}
